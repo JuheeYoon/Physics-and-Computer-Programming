{
  "nbformat": 4,
  "nbformat_minor": 0,
  "metadata": {
    "colab": {
      "provenance": []
    },
    "kernelspec": {
      "name": "python3",
      "display_name": "Python 3"
    },
    "language_info": {
      "name": "python"
    }
  },
  "cells": [
    {
      "cell_type": "markdown",
      "source": [
        "# **3주차 - 1** : 중요도 추출법"
      ],
      "metadata": {
        "id": "MlV96w8tcXYS"
      }
    },
    {
      "cell_type": "markdown",
      "source": [
        "# 1. 난수 $z$의 histogram"
      ],
      "metadata": {
        "id": "6N8SHMkFLePm"
      }
    },
    {
      "cell_type": "markdown",
      "source": [
        "**histogram 기능 이용**\n",
        "1. 0 ~ 1 범위의 난수 $z$를 10000개 지정\n",
        "2. bin 20칸으로 해서, 각 bin에 맞는 $z$ 개수 구하기"
      ],
      "metadata": {
        "id": "cMTyk1dSKraw"
      }
    },
    {
      "cell_type": "code",
      "execution_count": null,
      "metadata": {
        "colab": {
          "base_uri": "https://localhost:8080/",
          "height": 265
        },
        "id": "FaounzEhJwnc",
        "outputId": "a5fb2cf0-d805-48e5-cbbc-0860561f0ed4"
      },
      "outputs": [
        {
          "output_type": "display_data",
          "data": {
            "text/plain": [
              "<Figure size 432x288 with 1 Axes>"
            ],
            "image/png": "[encoded data removed]"
          },
          "metadata": {
            "needs_background": "light"
          }
        }
      ],
      "source": [
        "import numpy as np\n",
        "import matplotlib.pyplot as plt\n",
        "\n",
        "#np.random.seed(0)               # 난수 고정\n",
        "z = np.random.rand(10000)    ### 0 ~ 1 사이의 10000개의 난수 생성\n",
        "\n",
        "plt.hist(z, bins=20)\n",
        "plt.show()"
      ]
    },
    {
      "cell_type": "markdown",
      "source": [
        "**histogram 기능 이용 X**\n",
        "1. 0 ~ 1 사이의 bin 20개 만들기\n",
        ": 0 ~ 0.05 / 0.05 ~ 0.10 / 0.10 ~ 0.15 / ... / 0.95 ~ 1.00\n",
        "2. 0 ~ 1 범위의 난수 z를 해당하는 bin의 개수에 +1 씩 하기\n",
        "3. z의 histogram 그리기\n",
        "\n",
        "※ bar 그래프로 그리면, histogram처럼 그릴 수 없음\n",
        ">x축을 histogram에서는 자동으로 bin으로(0 ~ 0.05 , 0.05 ~ 0.10, ...) 잡아주지만, bar 막대그래프에서는 **특정 숫자나 문자로** 지정을 해야한다 !\n",
        "=> bin의 가운데에서 잘 보이게끔, bin의 대표값으로 **중앙값**으로 지정(0.025,0.075,...)\n",
        "\n",
        "4. $p(x) = C$ 를 그려 비교해보기"
      ],
      "metadata": {
        "id": "pfIPSfXb1hWH"
      }
    },
    {
      "cell_type": "code",
      "source": [
        "import numpy as np\n",
        "import matplotlib.pyplot as plt\n",
        "\n",
        "# 0 ~ 1사이의 bin 20개\n",
        "z_hist=np.zeros(20)\n",
        "\n",
        "# 10000개의 난수 z\n",
        "for i in range(10000):\n",
        "  z_hist[int(np.random.rand()*20)]+=1\n",
        "\n",
        "# 그래프\n",
        "x=np.arange(1,21)*0.05-0.025    ### bin의 대표값 = 중앙값\n",
        "p_x=0*x+500   # C=500\n",
        "plt.bar(x,z_hist,width=0.05)\n",
        "plt.plot(x,p_x, color='red')\n",
        "\n",
        "plt.show()"
      ],
      "metadata": {
        "colab": {
          "base_uri": "https://localhost:8080/",
          "height": 265
        },
        "id": "_Nt5fNUf1t_n",
        "outputId": "97f86a66-0061-4e82-c73c-5138cda24e1d"
      },
      "execution_count": null,
      "outputs": [
        {
          "output_type": "display_data",
          "data": {
            "text/plain": [
              "<Figure size 432x288 with 1 Axes>"
            ],
            "image/png": "[encoded data removed]"
          },
          "metadata": {
            "needs_background": "light"
          }
        }
      ]
    },
    {
      "cell_type": "markdown",
      "source": [
        "# 2. $z^2$의 histogram"
      ],
      "metadata": {
        "id": "uVoFpa_OK9t0"
      }
    },
    {
      "cell_type": "markdown",
      "source": [
        "**histogram 기능 이용**\n",
        "1. 0 ~ 1 범위의 난수 $z$를 10000개 지정\n",
        "2. $z^2$ 을 만들어줌\n",
        "3. bin 20칸으로 해서, 각 bin에 맞는 $z^2$ 개수 구하기\n",
        "4. 확률 밀도 $p(x) = \\frac{1}{2\\sqrt{x}}$ 그래프도 같이 그려보기"
      ],
      "metadata": {
        "id": "2cmoM9jpOAyK"
      }
    },
    {
      "cell_type": "code",
      "source": [
        "import numpy as np\n",
        "import matplotlib.pyplot as plt\n",
        "\n",
        "#np.random.seed(0)               # 난수 고정\n",
        "z = np.random.rand(10000)    ### 0 ~ 1 사이의 10000개의 난수 생성\n",
        "z2 = np.square(z)\n",
        "\n",
        "x=np.arange(0.0000001,1,0.00000001)\n",
        "y=1/(2*(x**(1/2)))\n",
        "\n",
        "plt.hist(z2, bins=20)\n",
        "plt.plot(x,y,color='red')\n",
        "plt.show()"
      ],
      "metadata": {
        "colab": {
          "base_uri": "https://localhost:8080/",
          "height": 265
        },
        "id": "FgwGnue4Kqi2",
        "outputId": "8fa5566a-3657-4f41-8e76-00fb84506e13"
      },
      "execution_count": null,
      "outputs": [
        {
          "output_type": "display_data",
          "data": {
            "text/plain": [
              "<Figure size 432x288 with 1 Axes>"
            ],
            "image/png": "[encoded data removed]"
          },
          "metadata": {
            "needs_background": "light"
          }
        }
      ]
    },
    {
      "cell_type": "markdown",
      "source": [
        "**histogram 기능 이용 X**\n",
        "1. 0 ~ 1 사이의 bin 20개 만들기\n",
        ": 0 ~ 0.05 / 0.05 ~ 0.10 / 0.10 ~ 0.15 / ... / 0.95 ~ 1.00\n",
        "2. 0 ~ 1 범위의 난수 $z$를 $z^2$으로 만들어주기\n",
        "3.해당하는 bin의 개수에 +1 씩 하기\n",
        "4. $z^2$의 histogram 그리기\n",
        "\n",
        "※ bar 그래프로 그리면, histogram처럼 그릴 수 없음\n",
        ">x축을 histogram에서는 자동으로 bin으로(0 ~ 0.05 , 0.05 ~ 0.10, ...) 잡아주지만, bar 막대그래프에서는 **특정 숫자나 문자로** 지정을 해야한다 !\n",
        "=> bin의 가운데에서 잘 보이게끔, bin의 대표값으로 **중앙값**으로 지정(0.025,0.075,...)\n",
        "\n",
        "5. 확률 밀도 $p(x) = \\frac{C}{2\\sqrt{x}}$ 를 그려 비교해보기"
      ],
      "metadata": {
        "id": "aXORER8Z10Aa"
      }
    },
    {
      "cell_type": "code",
      "source": [
        "import numpy as np\n",
        "import matplotlib.pyplot as plt\n",
        "\n",
        "# 0 ~ 1사이의 bin 20개\n",
        "z2_hist=np.zeros(20)\n",
        "\n",
        "# 10000개의 난수 z\n",
        "for i in range(10000):\n",
        "  z2_hist[int(np.square(np.random.rand())*20)]+=1\n",
        "\n",
        "# 그래프\n",
        "x=np.arange(1,21)*0.05-0.025         ### bin의 대표값 = 중앙값\n",
        "p_x=500/(2*x**(1/2))  # C=500\n",
        "plt.bar(x,z2_hist,width=0.05)\n",
        "plt.plot(x,p_x, color='red')\n",
        "\n",
        "plt.show()"
      ],
      "metadata": {
        "colab": {
          "base_uri": "https://localhost:8080/",
          "height": 265
        },
        "id": "LQ5fEfFf2CON",
        "outputId": "2d9d3cae-7107-4322-b525-19db1f6798e0"
      },
      "execution_count": null,
      "outputs": [
        {
          "output_type": "display_data",
          "data": {
            "text/plain": [
              "<Figure size 432x288 with 1 Axes>"
            ],
            "image/png": "[encoded data removed]"
          },
          "metadata": {
            "needs_background": "light"
          }
        }
      ]
    }
  ]
}