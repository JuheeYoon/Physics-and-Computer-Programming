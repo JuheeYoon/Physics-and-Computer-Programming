{
  "nbformat": 4,
  "nbformat_minor": 0,
  "metadata": {
    "colab": {
      "provenance": [],
      "collapsed_sections": [
        "QliR18ZqSgiw"
      ]
    },
    "kernelspec": {
      "name": "python3",
      "display_name": "Python 3"
    },
    "language_info": {
      "name": "python"
    }
  },
  "cells": [
    {
      "cell_type": "markdown",
      "source": [
        "# **4주차 - 1, 2** : 몬테칼로 시뮬레이션, 메트로폴리스 규칙"
      ],
      "metadata": {
        "id": "V0ZJ4zFHmheE"
      }
    },
    {
      "cell_type": "markdown",
      "source": [
        "# Q1. 메트로폴리스 원리로 중요도 추출"
      ],
      "metadata": {
        "id": "QliR18ZqSgiw"
      }
    },
    {
      "cell_type": "markdown",
      "source": [
        "**(a)** 아래 방법으로 $N = 10^5$의 난수 $x_1, \\cdots, x_N$ 를 추출하라.\n",
        "  1. 구간 $I = (0, 1)$에서 초기 난수 $x_1$을 뽑고 현재 위치 $x$를 $x = x_1$이라 한다.\n",
        "  2. 현재 위치가 $x = x_i$일 때, $i+1$번째 후보를 구간 $I$에서 랜덤하게 뽑아 $x'$라고 한다.\n",
        "  > $P_{x \\to x'} = \\begin{cases}\n",
        "  1 & \\mbox{for } x' < x\n",
        "  \\\\\n",
        "  \\frac{1/\\sqrt{x'}}{1/\\sqrt{x}} = \\sqrt{\\frac{x}{x'}} & \\mbox{otherwise}\n",
        "  \\end{cases}$\n",
        "\n",
        "  $P_{x \\to x'}$로 $x'$이 되고 $1 - P_{x \\to x'}$의 확률로 현재 위치를 유지한다. 즉, 확률 $P_{x \\to x'}$로 $x_{i+1} = x'$이고 확률 $1 - P_{x \\to x'}$로 $x_{i+1} = x_i$이다.\n",
        "\n",
        "처음 100개의 $i$에 대하여 $(i,x_i)$ 의 scatter plot 구하기"
      ],
      "metadata": {
        "id": "C4Y3zqKKS_f7"
      }
    },
    {
      "cell_type": "code",
      "execution_count": null,
      "metadata": {
        "id": "giG0b1dT8Wmb",
        "colab": {
          "base_uri": "https://localhost:8080/",
          "height": 279
        },
        "outputId": "fac36fb2-5a66-4f60-9dd9-cd7d8f7abef6"
      },
      "outputs": [
        {
          "output_type": "display_data",
          "data": {
            "text/plain": [
              "<Figure size 432x288 with 1 Axes>"
            ],
            "image/png": "[encoded data removed]"
          },
          "metadata": {
            "needs_background": "light"
          }
        }
      ],
      "source": [
        "import numpy as np\n",
        "import matplotlib.pyplot as plt\n",
        "\n",
        "np.random.seed(112)\n",
        "\n",
        "# 난수 x 추출\n",
        "x = np.random.rand(100000)\n",
        "\n",
        "for i in range(99999):\n",
        "  if x[i+1] < x[i]:\n",
        "    continue\n",
        "  else:\n",
        "    Px = np.sqrt(x[i]/x[i+1])\n",
        "    if np.random.rand() < Px :\n",
        "      continue\n",
        "    else:\n",
        "      x[i+1]=x[i]\n",
        "\n",
        "scatterx = [x[i] for i in range(100)]\n",
        "ilist = [i+1 for i in range(100)]\n",
        "\n",
        "plt.scatter(ilist,scatterx,s=2)\n",
        "plt.xlabel('i')\n",
        "plt.ylabel('Xi')\n",
        "plt.show()"
      ]
    },
    {
      "cell_type": "markdown",
      "source": [
        "**(b)** 추출한 난수 $x_i (i = 1, \\cdots , N)$의 분포를 확인해보자. 구간 $I$를 $M = 50$개의 균등한 소구간으로 나누고, 각각의 소구간에 들어간 난수의 갯수 $N_n (n = 1, \\cdots, N)$을 그래프로 나타내고 추출된 난수의 분포가 $p(x) = \\frac{1}{2\\sqrt{x}}$를 따르는지 확인하여라.\n"
      ],
      "metadata": {
        "id": "qHymO9TcWBh6"
      }
    },
    {
      "cell_type": "markdown",
      "source": [
        "**(c)** 추출한 난수의 평균과 분산을 구하고, (b)의 $p(x)$를 이용하여 계산한 결과와 비교하라."
      ],
      "metadata": {
        "id": "5E4gMmWupR7R"
      }
    },
    {
      "cell_type": "code",
      "source": [
        "import numpy as np\n",
        "import matplotlib.pyplot as plt\n",
        "\n",
        "np.random.seed(112)\n",
        "# 난수 x 추출\n",
        "x = np.random.rand(100000)\n",
        "\n",
        "for i in range(99999):\n",
        "  if x[i+1] < x[i]:\n",
        "    continue\n",
        "  else:\n",
        "    Px = np.sqrt(x[i]/x[i+1])\n",
        "    if np.random.rand() < Px :\n",
        "      continue\n",
        "    else:\n",
        "      x[i+1]=x[i]\n",
        "\n",
        "# 난수 x 분포 확인\n",
        "section = np.zeros(50)  # 0 ~ 1사이의 bin 50개\n",
        "for i in range(100000):\n",
        "  section[int(x[i]*50)]+=1\n",
        "print(section)\n",
        "\n",
        "# 그래프\n",
        "xlist = np.arange(1,51)*0.02-0.01         ### bin의 대표값 = 중앙값\n",
        "p_x = 2000/(2*xlist**(1/2))  # C=2000\n",
        "plt.bar(xlist,section,width=0.02)\n",
        "plt.plot(xlist, p_x, c='red')\n",
        "plt.show()\n",
        "\n",
        "print('평균 :',np.mean(x))\n",
        "print('분산 :',np.var(x))\n",
        "\n",
        "print('p(x)를 이용한 평균 계산 결과 :',1/3)\n",
        "print('p(x)를 이용한 분산 계산 결과 :',4/45)\n"
      ],
      "metadata": {
        "colab": {
          "base_uri": "https://localhost:8080/",
          "height": 428
        },
        "id": "zR4X0ZnOV7ib",
        "outputId": "a9ef1f7f-7e6c-42dd-9674-f02e9ee251a8"
      },
      "execution_count": null,
      "outputs": [
        {
          "output_type": "stream",
          "name": "stdout",
          "text": [
            "[13185.  6160.  4605.  3728.  3151.  3101.  2674.  2597.  2526.  2369.\n",
            "  2325.  2024.  2091.  2000.  1854.  1862.  1776.  1701.  1719.  1656.\n",
            "  1630.  1500.  1522.  1430.  1418.  1376.  1342.  1345.  1353.  1309.\n",
            "  1279.  1291.  1293.  1250.  1198.  1211.  1159.  1160.  1126.  1119.\n",
            "  1140.  1110.  1123.  1053.  1094.  1037.   996.   983.  1031.  1018.]\n"
          ]
        },
        {
          "output_type": "display_data",
          "data": {
            "text/plain": [
              "<Figure size 432x288 with 1 Axes>"
            ],
            "image/png": "[encoded data removed]"
          },
          "metadata": {
            "needs_background": "light"
          }
        },
        {
          "output_type": "stream",
          "name": "stdout",
          "text": [
            "평균 : 0.3358172052568373\n",
            "분산 : 0.08822969259258699\n",
            "p(x)를 이용한 평균 계산 결과 : 0.3333333333333333\n",
            "p(x)를 이용한 분산 계산 결과 : 0.08888888888888889\n"
          ]
        }
      ]
    },
    {
      "cell_type": "markdown",
      "source": [
        "**(d)** 추출된 난수를 이용하여 $I =$ $\\int\\limits_0^1$$\\frac{1}{\\sqrt{x}(e^x+1)}dx$ 계산하기\n",
        "\n",
        "※ 참값 : 0.8389..."
      ],
      "metadata": {
        "id": "xGMFprWWkLMN"
      }
    },
    {
      "cell_type": "code",
      "source": [
        "import numpy as np\n",
        "import matplotlib.pyplot as plt\n",
        "\n",
        "np.random.seed(112)\n",
        "# 난수 x 추출\n",
        "x = np.random.rand(100000)\n",
        "\n",
        "for i in range(99999):\n",
        "  if x[i+1] < x[i]:\n",
        "    continue\n",
        "  else:\n",
        "    Px = np.sqrt(x[i]/x[i+1])\n",
        "    if np.random.rand() < Px :\n",
        "      continue\n",
        "    else:\n",
        "      x[i+1]=x[i]\n",
        "\n",
        "g = 1/(np.exp(x)+1)\n",
        "g_mean_w = np.mean(g)\n",
        "print(2*g_mean_w)"
      ],
      "metadata": {
        "colab": {
          "base_uri": "https://localhost:8080/"
        },
        "id": "94GzudLUkTC4",
        "outputId": "bea97eb8-1f93-4725-9a63-02804a604c5e"
      },
      "execution_count": null,
      "outputs": [
        {
          "output_type": "stream",
          "name": "stdout",
          "text": [
            "0.8377096294109544\n"
          ]
        }
      ]
    },
    {
      "cell_type": "markdown",
      "source": [
        "\n",
        "\n",
        "---\n",
        "\n"
      ],
      "metadata": {
        "id": "Ep7B7QXCpiiE"
      }
    },
    {
      "cell_type": "markdown",
      "source": [
        "# Q2. 질량 $m$인 단원자 이상 기체 분자 100개가 길이 L인 상자 안에 있다.\n",
        "\n",
        "$|n_x, n_y, n_z>$ 상태에 있는 입자 하나의 에너지는 다음과 같이 주어진다.\n",
        "> $E(n_x, n_y, n_z) = \\frac{\\pi^2 \\hbar^2}{2mL^2}(n_x^2, n_y^2, n_z^2) = (n_x^2+n_y^2+n_z^2)  E_0$\n",
        "\n",
        "초기에 $N$개의 입자는 모두 바닥 상태인 $n_x = n_y = n_z = 1$인 상태에 있어 계의 초기 에너지는 $E = 3NE_0$이다. 이 상자를 $T = 10E_0/k_B$인 환경에 놓았다. 양자수가 하나 차이 나는 상태로만 전이$(n_i → n_i \\pm 1)$가 가능하다고 가정하자."
      ],
      "metadata": {
        "id": "YYVHT5FrlUoW"
      }
    },
    {
      "cell_type": "markdown",
      "source": [
        "**(a)** 계의 에너지의 시간이 지남에 따른 변화 그래프 $( t = 0 \\sim 100 )$\n",
        "\n",
        "1. 분자 1개의 $t = 0 \\sim 100$ 까지의 시간 변화에 따른 에너지 변화 $\\Rightarrow$\t 함수로 만들기\n",
        "2. 만들어 놓은 함수로 분자 100개의 시간 변화에 따른 에너지 변화 나타내기\n",
        "3. 에너지 값들 정리하고, 그래프 그리기"
      ],
      "metadata": {
        "id": "lyGy4ImElg6v"
      }
    },
    {
      "cell_type": "code",
      "source": [
        "import numpy as np\n",
        "import matplotlib.pyplot as plt\n",
        "\n",
        "Et = [[] for t in range(101)]  ## 시간 t = 0 ~ 100\n",
        "for k in range(100):\n",
        "  Et[0].append(3)  ## t = 0에서 100개의 초기 (nx^2 + ny^2 + nz^2)\n",
        "\n",
        "# 분자 1개의 상태 변화(0~100) 만들기\n",
        "def molecule1():\n",
        "  statex = [1,1,1]\n",
        "  # 분자 1개의 시간 t = 0 ~ 100일 때 상태 & 에너지\n",
        "  for t in range(100):\n",
        "    pxyz = np.random.rand()\n",
        "    if pxyz < 1/3 :\n",
        "      xyz = 0  ## n_x\n",
        "    elif pxyz < 2/3 :\n",
        "      xyz = 1  ## n_y\n",
        "    else:\n",
        "      xyz = 2 ## n_z\n",
        "\n",
        "    statey = [statex[0],statex[1],statex[2]]\n",
        "    ppm = np.random.rand()\n",
        "    if (ppm < 1/2) or (statex[xyz] == 1):\n",
        "      statey[xyz] += 1\n",
        "    else:\n",
        "      statey[xyz] -= 1\n",
        "\n",
        "    prob = np.random.rand()\n",
        "    Ex = np.sum(np.square(statex))\n",
        "    Ey = np.sum(np.square(statey))\n",
        "    if Ey <= Ex:\n",
        "      E = Ey  ## Ex -> Ey\n",
        "      statex = [statey[0],statey[1],statey[2]]   ## (nx,ny,nz) -> (nx,ny,nz) +- 1\n",
        "    else:\n",
        "      if prob < np.exp((-1)*(Ey-Ex)/10):\n",
        "        E = Ey  ## Ex -> Ey\n",
        "        statex = [statey[0],statey[1],statey[2]]  ## (nx,ny,nz) -> (nx,ny,nz) +- 1\n",
        "      else:\n",
        "        E = Ex  ## Ex -> Ex\n",
        "    Et[t+1].append(E)\n",
        "\n",
        "  return()\n",
        "\n",
        "# 100개의 분자에 대해 t = 0 ~ 100일 때의 에너지 구하기\n",
        "for k in range(100):\n",
        "  molecule1()\n",
        "\n",
        "# 시간별 에너지의 합 구하기\n",
        "Etot=[]\n",
        "for i in range(101):\n",
        "  Etot.append(np.sum(Et[i]))\n",
        "\n",
        "print(Etot)\n",
        "\n",
        "# t = 0 ~ 100까지 그래프 그려보기\n",
        "time = [t for t in range(101)]  # 시간은 0 ~ 100\n",
        "plt.plot(time,Etot)\n",
        "plt.xlabel('t')\n",
        "plt.ylabel('E')\n",
        "plt.show()"
      ],
      "metadata": {
        "colab": {
          "base_uri": "https://localhost:8080/",
          "height": 317
        },
        "id": "piDx95xKuyNk",
        "outputId": "0191890a-4a7d-4daf-f5f1-d9cac063df72"
      },
      "execution_count": null,
      "outputs": [
        {
          "output_type": "stream",
          "name": "stdout",
          "text": [
            "[300, 528, 721, 883, 973, 1089, 1152, 1206, 1270, 1299, 1335, 1418, 1562, 1613, 1659, 1686, 1689, 1721, 1749, 1795, 1814, 1794, 1838, 1870, 1868, 1854, 1891, 1935, 1950, 1992, 1959, 1907, 1947, 1965, 1882, 1946, 1877, 1956, 1982, 1967, 1941, 2002, 2013, 2044, 2045, 2084, 2077, 2052, 2048, 2064, 2021, 2068, 2104, 2146, 2106, 2117, 2176, 2136, 2199, 2118, 2095, 2040, 2139, 2208, 2249, 2257, 2184, 2137, 2091, 2128, 2056, 2098, 2099, 2142, 2070, 2083, 2051, 2009, 2035, 2014, 2063, 2065, 2139, 2112, 2222, 2170, 2190, 2196, 2165, 2115, 2258, 2234, 2236, 2165, 2190, 2249, 2228, 2292, 2331, 2329, 2355]\n"
          ]
        },
        {
          "output_type": "display_data",
          "data": {
            "text/plain": [
              "<Figure size 432x288 with 1 Axes>"
            ],
            "image/png": "[encoded data removed]"
          },
          "metadata": {
            "needs_background": "light"
          }
        }
      ]
    },
    {
      "cell_type": "markdown",
      "source": [
        "**(b)** 충분히 시간이 지난 후 $( t = \\sim 1000 )$, 입자의 에너지 분포 그래프"
      ],
      "metadata": {
        "id": "IUi03g6uGkld"
      }
    },
    {
      "cell_type": "code",
      "source": [
        "import numpy as np\n",
        "import matplotlib.pyplot as plt\n",
        "\n",
        "Et = [[] for t in range(1001)]  ## 시간 t = 0 ~ 1000\n",
        "for k in range(100):\n",
        "  Et[0].append(3)  ## t = 0에서 100개의 초기 (nx^2 + ny^2 + nz^2)\n",
        "\n",
        "# 분자 1개의 상태 변화(0~1000) 만들기\n",
        "def molecule1():\n",
        "  statex = [1,1,1]\n",
        "  # 분자 1개의 시간 t = 0 ~ 1000일 때 상태 & 에너지\n",
        "  for t in range(1000):\n",
        "    pxyz = np.random.rand()\n",
        "    if pxyz < 1/3 :\n",
        "      xyz = 0  ## n_x\n",
        "    elif pxyz < 2/3 :\n",
        "      xyz = 1  ## n_y\n",
        "    else:\n",
        "      xyz = 2 ## n_z\n",
        "\n",
        "    statey = [statex[0],statex[1],statex[2]]\n",
        "    ppm = np.random.rand()\n",
        "    if (ppm < 1/2) or (statex[xyz] == 1):\n",
        "      statey[xyz] += 1\n",
        "    else:\n",
        "      statey[xyz] -= 1\n",
        "\n",
        "    prob = np.random.rand()\n",
        "    Ex = np.sum(np.square(statex))\n",
        "    Ey = np.sum(np.square(statey))\n",
        "    if Ey <= Ex:\n",
        "      E = Ey  ## Ex -> Ey\n",
        "      statex = [statey[0],statey[1],statey[2]]   ## (nx,ny,nz) -> (nx,ny,nz) +- 1\n",
        "    else:\n",
        "      if prob < np.exp((-1)*(Ey-Ex)/10):\n",
        "        E = Ey  ## Ex -> Ey\n",
        "        statex = [statey[0],statey[1],statey[2]]  ## (nx,ny,nz) -> (nx,ny,nz) +- 1\n",
        "      else:\n",
        "        E = Ex  ## Ex -> Ex\n",
        "    Et[t+1].append(E)\n",
        "\n",
        "  return()\n",
        "\n",
        "# 100개의 분자에 대해 t = 0 ~ 1000일 때의 에너지 구하기\n",
        "for k in range(1000):\n",
        "  molecule1()\n",
        "\n",
        "# 시간별 에너지의 합 구하기\n",
        "Etot=[]\n",
        "for i in range(1001):\n",
        "  Etot.append(np.sum(Et[i]))\n",
        "\n",
        "print(Etot)\n",
        "\n",
        "# t = 0 ~ 1000까지 그래프 그려보기\n",
        "time = [t for t in range(1001)]  # 시간은 0 ~ 1000\n",
        "plt.plot(time,Etot)\n",
        "plt.xlabel('t')\n",
        "plt.ylabel('E')\n",
        "plt.show()"
      ],
      "metadata": {
        "id": "DQVk-8K7TaMM",
        "colab": {
          "base_uri": "https://localhost:8080/",
          "height": 317
        },
        "outputId": "37dab68e-9a83-4379-d3f1-9aa340a716d6"
      },
      "execution_count": null,
      "outputs": [
        {
          "output_type": "stream",
          "name": "stdout",
          "text": [
            "[300, 5187, 6875, 8336, 9416, 10449, 11117, 11940, 12633, 13364, 13914, 14433, 14830, 15177, 15471, 15815, 16290, 16567, 16684, 17082, 17321, 17671, 17875, 18227, 18618, 18864, 19147, 19341, 19491, 19510, 19283, 19574, 19721, 20035, 20166, 20098, 20417, 20472, 20345, 20667, 20803, 21019, 21282, 21262, 21442, 21670, 21730, 21747, 21512, 21334, 21243, 21411, 21307, 21314, 21621, 21526, 21324, 21344, 21088, 21379, 21367, 21127, 21011, 21189, 21078, 21298, 21471, 21533, 21365, 21228, 21375, 21562, 21666, 21542, 21408, 21402, 21367, 21270, 21050, 21224, 21323, 21508, 21693, 21632, 21518, 21655, 21813, 21951, 22484, 22335, 22432, 22464, 22335, 22235, 22200, 21956, 22137, 22233, 22372, 22275, 22249, 22280, 22107, 21972, 22085, 22095, 21961, 21957, 21996, 21955, 22005, 21783, 21830, 21823, 22085, 21837, 21877, 21499, 21442, 21314, 21293, 21355, 21324, 21334, 21317, 21395, 21488, 21753, 21675, 21600, 21616, 21524, 21451, 21462, 21449, 21692, 21698, 21876, 21963, 21788, 21674, 21636, 21511, 21435, 21600, 21418, 21614, 21676, 21762, 21901, 22215, 22367, 22518, 22312, 22260, 22177, 22000, 22165, 22321, 22652, 22566, 22473, 22270, 22309, 22341, 22523, 22319, 22362, 22462, 22391, 22263, 22397, 22196, 22310, 22200, 22288, 22386, 22388, 22236, 22434, 22277, 22436, 22643, 22397, 22208, 22284, 22400, 22552, 22540, 22535, 22575, 22758, 22826, 22826, 22790, 22728, 22678, 22761, 22585, 22550, 22521, 22455, 22340, 22441, 22209, 22241, 22333, 22212, 22130, 22047, 21878, 22075, 21864, 21957, 22081, 22090, 21901, 21879, 21913, 21538, 21638, 21893, 21974, 21977, 21872, 21913, 21994, 21992, 22114, 21762, 22043, 22017, 22072, 22189, 22256, 22293, 22213, 22003, 21829, 21753, 21737, 21766, 21727, 21911, 21986, 21768, 21711, 21790, 21857, 21692, 21691, 21679, 21708, 21757, 21784, 21645, 21896, 22061, 21786, 21818, 21534, 21548, 21773, 21566, 21646, 21397, 21719, 21409, 21550, 21665, 21485, 21609, 21538, 21421, 21590, 21631, 21617, 21765, 21929, 21959, 21877, 21683, 21587, 21390, 21400, 21478, 21468, 21666, 21595, 21576, 21600, 21431, 21389, 21669, 21719, 21606, 21783, 21536, 21387, 21443, 21443, 21356, 21449, 21375, 21229, 21164, 21096, 21198, 21178, 21361, 21302, 21322, 21314, 21311, 21469, 21745, 21711, 21669, 21615, 21762, 21953, 21949, 21926, 22063, 21877, 22107, 22248, 22389, 22442, 22649, 22819, 22946, 22930, 23213, 23120, 23062, 23126, 23227, 23268, 23405, 23126, 23161, 23291, 22906, 22676, 22478, 22333, 22359, 22473, 22367, 22069, 22148, 22412, 22456, 22489, 22642, 22757, 22710, 22805, 22717, 22732, 22676, 22822, 22785, 22658, 22482, 22360, 22427, 22460, 22588, 22512, 22405, 22491, 22591, 22587, 22526, 22102, 22123, 22191, 22187, 22309, 22248, 22205, 22172, 22241, 22251, 22257, 22236, 22188, 22217, 22266, 22420, 22330, 22225, 22237, 22284, 22078, 22376, 22351, 22548, 22313, 22481, 22308, 22255, 22164, 22132, 22012, 21950, 21869, 21952, 21867, 21847, 21735, 21693, 21621, 21706, 21729, 21635, 21484, 21476, 21407, 21366, 21467, 21555, 21494, 21607, 21675, 21723, 21902, 21674, 21778, 21766, 21688, 21349, 21622, 21624, 21356, 21377, 21409, 21519, 21388, 21614, 21761, 21782, 21910, 21761, 21752, 21790, 21713, 21982, 22023, 22023, 22040, 21787, 21919, 21744, 21760, 21553, 21614, 21581, 21764, 21806, 21977, 22057, 21986, 22016, 22011, 22074, 21935, 21855, 21790, 21598, 21720, 21651, 21806, 21811, 21977, 22097, 22016, 22040, 21928, 21733, 21746, 21750, 21813, 21812, 21928, 22005, 22081, 21931, 22014, 22118, 22051, 21916, 22072, 22157, 21910, 21787, 21709, 21570, 21455, 21282, 20951, 20899, 21075, 20978, 21178, 21185, 21321, 21161, 21321, 21410, 21395, 21435, 21583, 21521, 21539, 21587, 21910, 22110, 21986, 21822, 21822, 21699, 21611, 21819, 21635, 21563, 21485, 21351, 21434, 21319, 21312, 21390, 21520, 21618, 21423, 21379, 21443, 21521, 21318, 21460, 21421, 21515, 21546, 21668, 21716, 21709, 21487, 21668, 21545, 21378, 21424, 21385, 21475, 21483, 21593, 21782, 21555, 21368, 21441, 21542, 21389, 21316, 21431, 21541, 21358, 21285, 21301, 21396, 21343, 21233, 21434, 21283, 21371, 21483, 21415, 21395, 21315, 21301, 21053, 21123, 21005, 20882, 20807, 20959, 20984, 21149, 21175, 21184, 20974, 21044, 21232, 21373, 21418, 21354, 21383, 21400, 21310, 21243, 21248, 21338, 21362, 21326, 21078, 21162, 21168, 21134, 21340, 21525, 21743, 21922, 21885, 21903, 21667, 21617, 21884, 21747, 21944, 22173, 22224, 22444, 22356, 22223, 22047, 21967, 22120, 21872, 21864, 21782, 21694, 21936, 22091, 22354, 22325, 22364, 22308, 22215, 22389, 22517, 22332, 22333, 22355, 22313, 22315, 22241, 22279, 22332, 22435, 22460, 22545, 22849, 22671, 22916, 22997, 23079, 22919, 22848, 22993, 23013, 23156, 23007, 23052, 22751, 22654, 22634, 22896, 22766, 22710, 22988, 22942, 23017, 22793, 22712, 22766, 22585, 22559, 22531, 22579, 22684, 22586, 22365, 22253, 22256, 22137, 21995, 22209, 22157, 21931, 21816, 21711, 21758, 22020, 21980, 21966, 21895, 22026, 22094, 22205, 22425, 22269, 22023, 22008, 22126, 22291, 22427, 22365, 22331, 22410, 22293, 22474, 22067, 21963, 21851, 21723, 21750, 21838, 21687, 21747, 21724, 22007, 22149, 22056, 22026, 22038, 22082, 22140, 22041, 22059, 22030, 21984, 22119, 22228, 22268, 22014, 22343, 22296, 22543, 22629, 22543, 22451, 22578, 22455, 22114, 21823, 21934, 22054, 21631, 21753, 21626, 21939, 21984, 21910, 21974, 21834, 21915, 21927, 21846, 21766, 21635, 21880, 21753, 21738, 21918, 21789, 21809, 21729, 21728, 21659, 21862, 21802, 21872, 21954, 21719, 21551, 21037, 21271, 21558, 21794, 21992, 22162, 22167, 22201, 22018, 21992, 21611, 21521, 21924, 21876, 21820, 21914, 21823, 21628, 21671, 21593, 21724, 21738, 21757, 21926, 21701, 21833, 21701, 21744, 21818, 21650, 22027, 22005, 21877, 21958, 22155, 21984, 21883, 21803, 21717, 21791, 22049, 22152, 22207, 22283, 22240, 22203, 22047, 22428, 22518, 22538, 22473, 22380, 22513, 22392, 22487, 22468, 22398, 22310, 22222, 22045, 22147, 22288, 22200, 22113, 22039, 22101, 22224, 22280, 22054, 22048, 22041, 21919, 22018, 22065, 21939, 22043, 22284, 22499, 22391, 22210, 22229, 22239, 22148, 22130, 22157, 21804, 22033, 22050, 22006, 22252, 22297, 22291, 22263, 22533, 22728, 22667, 22632, 22725, 22414, 22118, 21834, 21617, 21943, 21814, 21847, 21994, 21832, 21892, 22044, 21829, 21830, 22158, 22128, 22113, 22111, 22018, 22266, 22166, 22031, 21984, 22095, 22147, 22028, 21990, 22175, 22405, 22300, 22292, 22243, 22211, 22254, 22442, 22628, 22561, 22626, 22759, 22791, 22372, 22285, 22303, 22151, 22158, 22318, 22128, 22129, 22021, 22261, 22148, 22256, 22387, 22405, 22251, 22221, 22071, 22187, 22058, 22007, 22072, 22045, 21834, 21709, 21735, 21817, 21963, 21915, 22158, 22384, 22255, 22014, 21762, 21871, 21818, 21766, 21715, 21809, 21664, 22069, 21980, 21963, 22223, 22348, 22463, 22379, 22233, 22318, 22361, 22128, 22025, 22240, 22230, 22362, 22408, 22342, 22228, 22330, 22512, 22760, 22653, 22612, 22758, 22783, 22642, 22277, 22343, 22402, 22248, 22071, 22046, 22318, 22398, 22159, 22154, 21858, 21813, 21728, 21779, 21806, 21834, 21771, 21684, 21557, 21624, 21600, 21497, 21497, 21540]\n"
          ]
        },
        {
          "output_type": "display_data",
          "data": {
            "text/plain": [
              "<Figure size 432x288 with 1 Axes>"
            ],
            "image/png": "[encoded data removed]"
          },
          "metadata": {
            "needs_background": "light"
          }
        }
      ]
    },
    {
      "cell_type": "markdown",
      "source": [
        "******* 분자 1000개일 때도 해보기 ! *******\n",
        "1. 분자 N = 1000, 시간 t = 0 ~ 100\n",
        "2. 분자 N = 1000, 시간 t = 0 ~ 1000"
      ],
      "metadata": {
        "id": "vxG2p3kHpygc"
      }
    },
    {
      "cell_type": "code",
      "source": [
        "import numpy as np\n",
        "import matplotlib.pyplot as plt\n",
        "\n",
        "Et = [[] for t in range(101)]  ## 시간 t = 0 ~ 100\n",
        "for k in range(1000):\n",
        "  Et[0].append(3)  ## t = 0에서 1000개의 초기 (nx^2 + ny^2 + nz^2)\n",
        "\n",
        "# 분자 1개의 상태 변화(0~100) 만들기\n",
        "def molecule1():\n",
        "  statex = [1,1,1]\n",
        "  # 분자 1개의 시간 t = 0 ~ 100일 때 상태 & 에너지\n",
        "  for t in range(100):\n",
        "    pxyz = np.random.rand()\n",
        "    if pxyz < 1/3 :\n",
        "      xyz = 0  ## n_x\n",
        "    elif pxyz < 2/3 :\n",
        "      xyz = 1  ## n_y\n",
        "    else:\n",
        "      xyz = 2 ## n_z\n",
        "\n",
        "    statey = [statex[0],statex[1],statex[2]]\n",
        "    ppm = np.random.rand()\n",
        "    if (ppm < 1/2) or (statex[xyz] == 1):\n",
        "      statey[xyz] += 1\n",
        "    else:\n",
        "      statey[xyz] -= 1\n",
        "\n",
        "    prob = np.random.rand()\n",
        "    Ex = np.sum(np.square(statex))\n",
        "    Ey = np.sum(np.square(statey))\n",
        "    if Ey <= Ex:\n",
        "      E = Ey  ## Ex -> Ey\n",
        "      statex = [statey[0],statey[1],statey[2]]   ## (nx,ny,nz) -> (nx,ny,nz) +- 1\n",
        "    else:\n",
        "      if prob < np.exp((-1)*(Ey-Ex)/10):\n",
        "        E = Ey  ## Ex -> Ey\n",
        "        statex = [statey[0],statey[1],statey[2]]  ## (nx,ny,nz) -> (nx,ny,nz) +- 1\n",
        "      else:\n",
        "        E = Ex  ## Ex -> Ex\n",
        "    Et[t+1].append(E)\n",
        "\n",
        "  return()\n",
        "\n",
        "# 1000개의 분자에 대해 t = 0 ~ 100일 때의 에너지 구하기\n",
        "for k in range(1000):\n",
        "  molecule1()\n",
        "\n",
        "# 시간별 에너지의 합 구하기\n",
        "Etot=[]\n",
        "for i in range(101):\n",
        "  Etot.append(np.sum(Et[i]))\n",
        "\n",
        "print(Etot)\n",
        "\n",
        "# t = 0 ~ 100까지 그래프 그려보기\n",
        "time = [t for t in range(101)]  # 시간은 0 ~ 100\n",
        "plt.plot(time,Etot)\n",
        "plt.xlabel('t')\n",
        "plt.ylabel('E')\n",
        "plt.show()"
      ],
      "metadata": {
        "id": "MLW6fdtn-i4y",
        "colab": {
          "base_uri": "https://localhost:8080/",
          "height": 320
        },
        "outputId": "2b5edc1f-d02f-4f2e-d268-bbf80ab0864a"
      },
      "execution_count": null,
      "outputs": [
        {
          "output_type": "stream",
          "name": "stdout",
          "text": [
            "[3000, 5253, 7046, 8412, 9351, 10208, 10927, 11683, 12357, 12830, 13328, 13904, 14053, 14649, 15133, 15440, 16008, 16296, 16691, 17039, 17289, 17394, 17495, 17826, 17911, 18199, 18291, 18694, 18941, 19151, 19229, 19318, 19608, 19805, 19825, 19907, 20151, 20027, 20182, 20066, 20114, 20370, 20523, 20682, 20734, 20711, 20609, 20632, 20699, 20556, 20552, 20808, 20801, 20796, 20698, 20721, 20941, 20872, 21136, 21217, 21366, 21518, 21537, 21737, 21612, 21564, 21691, 21400, 20951, 20935, 20922, 21022, 20861, 20957, 20935, 20917, 20955, 20916, 20970, 20961, 20877, 20874, 20858, 21073, 21112, 21129, 21224, 21162, 21072, 20971, 20853, 20870, 20881, 20723, 20856, 21059, 21296, 21286, 21341, 21622, 21606]\n"
          ]
        },
        {
          "output_type": "display_data",
          "data": {
            "text/plain": [
              "<Figure size 432x288 with 1 Axes>"
            ],
            "image/png": "[encoded data removed]"
          },
          "metadata": {
            "needs_background": "light"
          }
        }
      ]
    },
    {
      "cell_type": "code",
      "source": [
        "import numpy as np\n",
        "import matplotlib.pyplot as plt\n",
        "\n",
        "Et = [[] for t in range(1001)]  ## 시간 t = 0 ~ 1000\n",
        "for k in range(1000):\n",
        "  Et[0].append(3)  ## t = 0에서 1000개의 초기 (nx^2 + ny^2 + nz^2)\n",
        "\n",
        "# 분자 1개의 상태 변화(0~1000) 만들기\n",
        "def molecule1():\n",
        "  statex = [1,1,1]\n",
        "  # 분자 1개의 시간 t = 0 ~ 1000일 때 상태 & 에너지\n",
        "  for t in range(1000):\n",
        "    pxyz = np.random.rand()\n",
        "    if pxyz < 1/3 :\n",
        "      xyz = 0  ## n_x\n",
        "    elif pxyz < 2/3 :\n",
        "      xyz = 1  ## n_y\n",
        "    else:\n",
        "      xyz = 2 ## n_z\n",
        "\n",
        "    statey = [statex[0],statex[1],statex[2]]\n",
        "    ppm = np.random.rand()\n",
        "    if (ppm < 1/2) or (statex[xyz] == 1):\n",
        "      statey[xyz] += 1\n",
        "    else:\n",
        "      statey[xyz] -= 1\n",
        "\n",
        "    prob = np.random.rand()\n",
        "    Ex = np.sum(np.square(statex))\n",
        "    Ey = np.sum(np.square(statey))\n",
        "    if Ey <= Ex:\n",
        "      E = Ey  ## Ex -> Ey\n",
        "      statex = [statey[0],statey[1],statey[2]]   ## (nx,ny,nz) -> (nx,ny,nz) +- 1\n",
        "    else:\n",
        "      if prob < np.exp((-1)*(Ey-Ex)/10):\n",
        "        E = Ey  ## Ex -> Ey\n",
        "        statex = [statey[0],statey[1],statey[2]]  ## (nx,ny,nz) -> (nx,ny,nz) +- 1\n",
        "      else:\n",
        "        E = Ex  ## Ex -> Ex\n",
        "    Et[t+1].append(E)\n",
        "\n",
        "  return()\n",
        "\n",
        "# 1000개의 분자에 대해 t = 0 ~ 1000일 때의 에너지 구하기\n",
        "for k in range(1000):\n",
        "  molecule1()\n",
        "\n",
        "# 시간별 에너지의 합 구하기\n",
        "Etot=[]\n",
        "for i in range(1001):\n",
        "  Etot.append(np.sum(Et[i]))\n",
        "\n",
        "print(Etot)\n",
        "\n",
        "# t = 0 ~ 1000까지 그래프 그려보기\n",
        "time = [t for t in range(1001)]  # 시간은 0 ~ 1000\n",
        "plt.plot(time,Etot)\n",
        "plt.xlabel('t')\n",
        "plt.ylabel('E')\n",
        "plt.show()"
      ],
      "metadata": {
        "colab": {
          "base_uri": "https://localhost:8080/",
          "height": 317
        },
        "id": "JUN-tc8kRjVp",
        "outputId": "74f6cf07-7af2-438d-94a9-77afecab2528"
      },
      "execution_count": null,
      "outputs": [
        {
          "output_type": "stream",
          "name": "stdout",
          "text": [
            "[3000, 5229, 6871, 8259, 9227, 10189, 11240, 11953, 12471, 13253, 13721, 14093, 14717, 15171, 15550, 15894, 16328, 16530, 17041, 17127, 17491, 17602, 17832, 18355, 18367, 18611, 18767, 18990, 19002, 19497, 19948, 20011, 20139, 20183, 20066, 20157, 20189, 20202, 20169, 20090, 20308, 20199, 20368, 20446, 20532, 20566, 20497, 20533, 20634, 20835, 20848, 20556, 20250, 20177, 20171, 20490, 20627, 20523, 20479, 20357, 20397, 20509, 20538, 20542, 20650, 20454, 20847, 20879, 20731, 20833, 20807, 20870, 20930, 20819, 20801, 20719, 20900, 20845, 20836, 20889, 21042, 21272, 21180, 21167, 21200, 21128, 21081, 21256, 21202, 21076, 21067, 21125, 21222, 21311, 21225, 21211, 21381, 21383, 21223, 21278, 21480, 21396, 21636, 21650, 21565, 21337, 21237, 21414, 21454, 21546, 21667, 21783, 21859, 21709, 21783, 21845, 21856, 21955, 21998, 21762, 21865, 21876, 21930, 21906, 21771, 21958, 21922, 21920, 21875, 21970, 22018, 22003, 21897, 22104, 22158, 22340, 22658, 22435, 22222, 22519, 22792, 22764, 22831, 22725, 22779, 22775, 22645, 22520, 22715, 22553, 22527, 22550, 22536, 22630, 22724, 22749, 22492, 22595, 22600, 22500, 22438, 22371, 22478, 22457, 22467, 22146, 22339, 22293, 22342, 22333, 22152, 22244, 22090, 22167, 21951, 22110, 22187, 22203, 22289, 22293, 22346, 22358, 22372, 22455, 22630, 22643, 22761, 22776, 22689, 22536, 22380, 22243, 22086, 22089, 22110, 22315, 22152, 22022, 21942, 22192, 22375, 22322, 22531, 22573, 22635, 22344, 22158, 22336, 22514, 22697, 22778, 22457, 22496, 22445, 22483, 22212, 22086, 22056, 21958, 21899, 21940, 21792, 21855, 22100, 22198, 22224, 22022, 21649, 21780, 21971, 21964, 21828, 21940, 22029, 22108, 22251, 22172, 22158, 22100, 22402, 22224, 22149, 22072, 21965, 22170, 22376, 22362, 22274, 22113, 22232, 22171, 22388, 22310, 22435, 22359, 22298, 22069, 21884, 21557, 21686, 21759, 21892, 21753, 21851, 21938, 22057, 21830, 21693, 21760, 21746, 21829, 21650, 21744, 21886, 21866, 21910, 21829, 21595, 21788, 21709, 21760, 21966, 21970, 21969, 21996, 21843, 21724, 21819, 21703, 21854, 21860, 21874, 21716, 22005, 21958, 21836, 21702, 21576, 21601, 21704, 21612, 21704, 21861, 22015, 21948, 22000, 21974, 22086, 21931, 21933, 21775, 22004, 22195, 22208, 22063, 22113, 21988, 21860, 21952, 22003, 22074, 21888, 21975, 22080, 21900, 21805, 21729, 21494, 21494, 21450, 21498, 21393, 21290, 21464, 21748, 21634, 21520, 21593, 21516, 21656, 21525, 21385, 21256, 21062, 21174, 21253, 21035, 21470, 21603, 21598, 21820, 22023, 22041, 21856, 21645, 21565, 21741, 21563, 21620, 21360, 21242, 21059, 21082, 21359, 21401, 21311, 21328, 21403, 21514, 21659, 21601, 21573, 21802, 21842, 21908, 21867, 21825, 21905, 21927, 21980, 21942, 21959, 21911, 21868, 21900, 22151, 21994, 22185, 22175, 22214, 22256, 22178, 22150, 22201, 22151, 21951, 22138, 21879, 22246, 22214, 22455, 22488, 22829, 22571, 22544, 22511, 22410, 22452, 22486, 22308, 22328, 22393, 22366, 22296, 22142, 22182, 22064, 21957, 21714, 21836, 21542, 21612, 21623, 21745, 21923, 22011, 22069, 22015, 21791, 21722, 21792, 21740, 21870, 21861, 21841, 21960, 22155, 22296, 22149, 22174, 22122, 21932, 21636, 21534, 21388, 21280, 21288, 21511, 21547, 21428, 21523, 21557, 21476, 21517, 21492, 21467, 21615, 21545, 21661, 21681, 21690, 21574, 21726, 21816, 21811, 21732, 21472, 21644, 21882, 21722, 21742, 21944, 22057, 22244, 22091, 22144, 22252, 22024, 21834, 21795, 21919, 21911, 22182, 22341, 22425, 22254, 22141, 22189, 22328, 22301, 22013, 21961, 21761, 21780, 21948, 21929, 21963, 21869, 21571, 21560, 21652, 21675, 21408, 21256, 21231, 21607, 21564, 21393, 21618, 21860, 21871, 21614, 21696, 21540, 21788, 21723, 21605, 21554, 21523, 21525, 21511, 21438, 21406, 21304, 21454, 21462, 21555, 21428, 21498, 21511, 21695, 21919, 21872, 21826, 21925, 21805, 21603, 21671, 21575, 21502, 21580, 21337, 21465, 21303, 21645, 21854, 22011, 21900, 21982, 21975, 22225, 22283, 22266, 22395, 22392, 22506, 22426, 22609, 22512, 22559, 22545, 22601, 22243, 21955, 21873, 21864, 22013, 21945, 21691, 21552, 21295, 21508, 21413, 21399, 21499, 21385, 21558, 21454, 21233, 21305, 21163, 21398, 21501, 21691, 21719, 21674, 21983, 21557, 21559, 21637, 21740, 21724, 21880, 21888, 21782, 21755, 21547, 21462, 21740, 21850, 21815, 22064, 21923, 22073, 22207, 22500, 22452, 22410, 22624, 22623, 22682, 22444, 22377, 22179, 22079, 22168, 21752, 21806, 21592, 21630, 21497, 21514, 21772, 21794, 21643, 21774, 22021, 21706, 21568, 21385, 21274, 21258, 21243, 21285, 21420, 21529, 21398, 21479, 21320, 21549, 21521, 21579, 21537, 21704, 21655, 21581, 21630, 21397, 21340, 21400, 21525, 21505, 21778, 21762, 21650, 21652, 21813, 21770, 21959, 21923, 21799, 21969, 21849, 21728, 21770, 21633, 21497, 21721, 21646, 21601, 21534, 21524, 21480, 21495, 21672, 21670, 21864, 21964, 22118, 22041, 22107, 21929, 22061, 22225, 22203, 22387, 22506, 22396, 22564, 22247, 22266, 22245, 22134, 21958, 22151, 22171, 22112, 22369, 22075, 22011, 22035, 22017, 21999, 22470, 22356, 22302, 22349, 22150, 22237, 22325, 21986, 21911, 21867, 22108, 21934, 21882, 21963, 21956, 21819, 21660, 21591, 21703, 21745, 21925, 21836, 22185, 21969, 22081, 22112, 22285, 22158, 22130, 22465, 22360, 22272, 22497, 22521, 22353, 22406, 22365, 22420, 22535, 22501, 22622, 22163, 22082, 22444, 22433, 22607, 22542, 22487, 22500, 22556, 22355, 22183, 22337, 22509, 22581, 22363, 22392, 22429, 22489, 22513, 22367, 22370, 22249, 22368, 22447, 22378, 22292, 22389, 22386, 22410, 22497, 22848, 22760, 22503, 22588, 22568, 22512, 22389, 22316, 22164, 22013, 21891, 21898, 21974, 21722, 21637, 21742, 21859, 21740, 21697, 21624, 21573, 21577, 21548, 21709, 21866, 21757, 21733, 21654, 21833, 21792, 21791, 21635, 21491, 21571, 21508, 21570, 21510, 21734, 21749, 21894, 21632, 21517, 21522, 21503, 21391, 21490, 21577, 21513, 21519, 21441, 21621, 21789, 21521, 21462, 21441, 21475, 21161, 21248, 21396, 21462, 21350, 21485, 21553, 21500, 21746, 21557, 21608, 21632, 21554, 21385, 21654, 21614, 21555, 21715, 21685, 21643, 21420, 21734, 21739, 21893, 22139, 21977, 21842, 21892, 21849, 21628, 21466, 21565, 21692, 21519, 21662, 21633, 21659, 21646, 21624, 21765, 21947, 21936, 22054, 22114, 22172, 22443, 22623, 22481, 22322, 22246, 22342, 22389, 22123, 22001, 21877, 21603, 21614, 21709, 21799, 21821, 21915, 21664, 21966, 21703, 21806, 21758, 21735, 21806, 21687, 21438, 21462, 21519, 21820, 21835, 21909, 21851, 21799, 21823, 21429, 21267, 21491, 21706, 21767, 21741, 21652, 21714, 21833, 21793, 22007, 21993, 21903, 21658, 21809, 21734, 21759, 21753, 21758, 21748, 21656, 21818, 22114, 22103, 22025, 21970, 22198, 22071, 21934, 21868, 22095, 22059, 22140, 22367, 22097, 22147, 22001, 22132, 21993, 22180, 22418, 22297, 22442, 22649, 22366, 22211, 22114, 22031, 22077, 21883, 21914, 22113, 22093, 22091, 22114, 22233, 22381, 21949, 21814, 21911, 21986, 21937, 22096, 22195, 21972, 22059, 22072, 22022, 22129, 22128, 21801, 21916, 21973, 21732, 21855, 21868, 21659, 21733, 21455, 21495, 21742, 21797, 22105, 22067, 22238, 21996, 21806, 21986, 22107, 22287, 22121, 21986, 21865]\n"
          ]
        },
        {
          "output_type": "display_data",
          "data": {
            "text/plain": [
              "<Figure size 432x288 with 1 Axes>"
            ],
            "image/png": "[encoded data removed]"
          },
          "metadata": {
            "needs_background": "light"
          }
        }
      ]
    }
  ]
}