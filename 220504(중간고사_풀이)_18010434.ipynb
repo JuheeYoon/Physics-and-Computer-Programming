{
  "nbformat": 4,
  "nbformat_minor": 0,
  "metadata": {
    "colab": {
      "provenance": [],
      "collapsed_sections": [
        "VffBl3cxy8V7",
        "mJzPc5uO24pa",
        "pqAZ-SlV59Lf"
      ]
    },
    "kernelspec": {
      "name": "python3",
      "display_name": "Python 3"
    },
    "language_info": {
      "name": "python"
    }
  },
  "cells": [
    {
      "cell_type": "markdown",
      "source": [
        "# **1.**"
      ],
      "metadata": {
        "id": "VffBl3cxy8V7"
      }
    },
    {
      "cell_type": "markdown",
      "source": [
        "다음의 $S$를 계산하는 파이썬 프로그램을 작성하고 실행하여 결과로 $S$값을 출력하라.\n",
        "\n",
        "$S = \\displaystyle\\sum_{k=10}^{999} \\frac{1}{k}$"
      ],
      "metadata": {
        "id": "Jil_KsV0zSBN"
      }
    },
    {
      "cell_type": "code",
      "execution_count": null,
      "metadata": {
        "id": "0jrg-eUjxTzm"
      },
      "outputs": [],
      "source": [
        "S = 0\n",
        "\n",
        "for i in range(10,1000):\n",
        "  S += (1/i)\n",
        "\n",
        "print(S)"
      ]
    },
    {
      "cell_type": "markdown",
      "source": [
        "\n",
        "\n",
        "---\n",
        "\n"
      ],
      "metadata": {
        "id": "zhm8TmLU2sya"
      }
    },
    {
      "cell_type": "markdown",
      "source": [
        "# **2.**"
      ],
      "metadata": {
        "id": "gtH7aMQXzWRD"
      }
    },
    {
      "cell_type": "markdown",
      "source": [
        "지상에서 높이 $h$인 상공에 정지해 있는 헬리콥터에서 수평으로 $v_0$의 속력으로 폭탄을 발사하였다. 폭탄의 속도 $\\overrightarrow{v}(t)$는\n",
        "$\\frac{d\\overrightarrow{v}}{dt} = -\\gamma\\overrightarrow{v}-g\\boldsymbol{\\hat{j}}$\n",
        "\n",
        "  을 만족한다. $\\gamma = 0.1/m$, $g = 9.8 m/s^2$을 사용하라."
      ],
      "metadata": {
        "id": "pOHq6XTtzkBS"
      }
    },
    {
      "cell_type": "markdown",
      "source": [
        "**(a)** $h = 100m$, $v_0 = 100m/s$일 때, 폭탄이 지상에 떨어질 때까지의 궤적을 그래프를 출력하라. 또, 지상에 떨어지는 시간 $t_f$와 이때까지 폭탄이 이동한 수평거리 $R$을 출력하라."
      ],
      "metadata": {
        "id": "3bo6CIn4zo0R"
      }
    },
    {
      "cell_type": "code",
      "source": [
        "import numpy as np\n",
        "import matplotlib.pyplot as plt\n",
        "\n",
        "gamma = 0.1 ; g = 9.8 ; h = 100 ; v0 = 100\n",
        "dt = 0.01 ; t = 0\n",
        "\n",
        "vx = v0 ; vy = 0\n",
        "x = 0 ; y = h\n",
        "px = [] ; py = []\n",
        "while y > -1e-10:\n",
        "  x += vx*dt\n",
        "  y += vy*dt\n",
        "  vx -= gamma*vx*dt\n",
        "  vy -= (gamma*vy+g)*dt\n",
        "  px.append(x)\n",
        "  py.append(y)\n",
        "  t += dt\n",
        "plt.plot(px,py)\n",
        "plt.show()\n",
        "\n",
        "print(t,px[-1])"
      ],
      "metadata": {
        "colab": {
          "base_uri": "https://localhost:8080/",
          "height": 265
        },
        "id": "QybOpBb4z_n3",
        "outputId": "76a28467-e2fd-42cc-cdef-9a8a0d7e400c"
      },
      "execution_count": null,
      "outputs": [
        {
          "output_type": "display_data",
          "data": {
            "text/plain": [
              "<Figure size 432x288 with 1 Axes>"
            ],
            "image/png": "[encoded data removed]"
          },
          "metadata": {
            "needs_background": "light"
          }
        }
      ]
    },
    {
      "cell_type": "markdown",
      "source": [
        "**(b)** $h = 100m$로 고정된 경우, 수평거리가 $R = 1 km$에 있는 목표물을 맞추기 위한 초기 속력 $v_0$은 얼마인지 수치적 실험이나 해석적 추측으로 찾아내어 $v_0$값을 출력하고 $R = 1 km$임을 확인하라."
      ],
      "metadata": {
        "id": "_fp5lXGc2dy_"
      }
    },
    {
      "cell_type": "code",
      "source": [
        "import numpy as np\n",
        "import matplotlib.pyplot as plt\n",
        "\n",
        "gamma = 0.1 ; g = 9.8 ; h = 100\n",
        "dt = 0.01 ; t = 0\n",
        "\n",
        "for i in np.arange(100, 300, 0.01):\n",
        "  v0 = i\n",
        "  vx = v0 ; vy = 0 ; t = 0\n",
        "  x = 0 ; y = h\n",
        "  px = [] ; py = []\n",
        "  while y > -1e-10:\n",
        "    x += vx*dt\n",
        "    y += vy*dt\n",
        "    vx -= gamma*vx*dt\n",
        "    vy -= (gamma*vy+g)*dt\n",
        "    px.append(x)\n",
        "    py.append(y)\n",
        "    t += dt\n",
        "  if px[-1] - 1000 > -1e-10:\n",
        "    plt.plot(px,py)\n",
        "    plt.show()\n",
        "    print(v0,px[-1])\n",
        "    break"
      ],
      "metadata": {
        "colab": {
          "base_uri": "https://localhost:8080/",
          "height": 283
        },
        "id": "OLN0kjmZ2j_N",
        "outputId": "366b7a36-f694-43b1-f35a-230ef64cd6e4"
      },
      "execution_count": null,
      "outputs": [
        {
          "output_type": "display_data",
          "data": {
            "text/plain": [
              "<Figure size 432x288 with 1 Axes>"
            ],
            "image/png": "[encoded data removed]"
          },
          "metadata": {
            "needs_background": "light"
          }
        },
        {
          "output_type": "stream",
          "name": "stdout",
          "text": [
            "258.4600000000811 1000.0093737727647\n"
          ]
        }
      ]
    },
    {
      "cell_type": "markdown",
      "source": [
        "**(c)** $v_0 = 100m/s$로 고정된 경우, 수평거리가 $R = 1km$에 있는 목표물을 맞추기 위한 초기 높이 $h$은 얼마인지 수치적 실험이나 해석적 추측으로 찾아내어 $h$값을 출력하고 $R = 1 km$임을 확인하라."
      ],
      "metadata": {
        "id": "1Kh4J5TG2kpv"
      }
    },
    {
      "cell_type": "code",
      "source": [
        "import numpy as np\n",
        "import matplotlib.pyplot as plt\n",
        "\n",
        "gamma = 0.1 ; g = 9.8 ; v0 = 100\n",
        "dt = 0.01 ; t = 0\n",
        "\n",
        "h = []; R = []\n",
        "for i in np.arange(100, 10000, 1):\n",
        "  vx = v0 ; vy = 0 ; t = 0\n",
        "  x = 0 ; y = i\n",
        "  h.append(i)\n",
        "  px = [] ; py = []\n",
        "  while y > -1e-10:\n",
        "    x += vx*dt\n",
        "    y += vy*dt\n",
        "    vx -= gamma*vx*dt\n",
        "    vy -= (gamma*vy+g)*dt\n",
        "    px.append(x)\n",
        "    py.append(y)\n",
        "    t += dt\n",
        "  R.append(px[-1])\n",
        "\n",
        "plt.plot(h,R)\n",
        "plt.show()\n",
        "\n",
        "print('h = ∞')"
      ],
      "metadata": {
        "colab": {
          "base_uri": "https://localhost:8080/",
          "height": 283
        },
        "id": "YntKuTD32vyD",
        "outputId": "ba105072-fdf6-4aa1-9583-3599aa1315ae"
      },
      "execution_count": null,
      "outputs": [
        {
          "output_type": "display_data",
          "data": {
            "text/plain": [
              "<Figure size 432x288 with 1 Axes>"
            ],
            "image/png": "[encoded data removed]"
          },
          "metadata": {
            "needs_background": "light"
          }
        },
        {
          "output_type": "stream",
          "name": "stdout",
          "text": [
            "h = ∞\n"
          ]
        }
      ]
    },
    {
      "cell_type": "markdown",
      "source": [
        "**(d)** $\\gamma$값이 변해도 항상 같은 위치에 폭탄이 떨어지게 하려면, 초기 높이 $h$와 초기 속력 $v_0$를 $\\gamma$값에 따라 어떻게 변화시켜야 하는지 추측하고 수치적으로 검증하라."
      ],
      "metadata": {
        "id": "I4d2PeFb2wjb"
      }
    },
    {
      "cell_type": "code",
      "source": [],
      "metadata": {
        "id": "ZFDdGWtW22oF"
      },
      "execution_count": null,
      "outputs": []
    },
    {
      "cell_type": "markdown",
      "source": [
        "\n",
        "\n",
        "---\n",
        "\n"
      ],
      "metadata": {
        "id": "wqghUyyt23Pn"
      }
    },
    {
      "cell_type": "markdown",
      "source": [
        "# **3.**"
      ],
      "metadata": {
        "id": "mJzPc5uO24pa"
      }
    },
    {
      "cell_type": "markdown",
      "source": [
        "몬테칼로 방법으로 적분값\n",
        "$I = \\int_{0}^{1}\\frac{x^{-5/7}}{e^x+1} dx$\n",
        "를 구하려고 한다. (표본 추출 횟수는 $N = 4000$ 사용)"
      ],
      "metadata": {
        "id": "bxSrUiLB3Dva"
      }
    },
    {
      "cell_type": "markdown",
      "source": [
        "**(a)** 피적분 함수 $f(x) = \\frac{x^{-5/7}}{e^x+1}$의 균일 표본 추출 방법으로 위의 적분값을 구하는 프로그램을 작성하고 적분값을 출력하라."
      ],
      "metadata": {
        "id": "-vdQlYsO3F8-"
      }
    },
    {
      "cell_type": "code",
      "source": [
        "import numpy as np\n",
        "import matplotlib.pyplot as plt\n",
        "\n",
        "def rep(N):\n",
        "  x = np.random.uniform(0,1,N) # 0 ~ 1 난수\n",
        "  f = (x**(-5/7))/(np.exp(x)+1)\n",
        "\n",
        "  return (np.mean(f)*(1-0))\n",
        "\n",
        "N = 4000            # 점 개수 N\n",
        "print(rep(N))"
      ],
      "metadata": {
        "colab": {
          "base_uri": "https://localhost:8080/"
        },
        "id": "3AwrZy9l27Q9",
        "outputId": "2757bd69-268f-40a6-eec9-96183dde91ef"
      },
      "execution_count": null,
      "outputs": [
        {
          "output_type": "stream",
          "name": "stdout",
          "text": [
            "1.5328153839167484\n"
          ]
        }
      ]
    },
    {
      "cell_type": "markdown",
      "source": [
        "**(b)** $[0,1]$에서 균일한 분포로 추출되는 랜덤 넘버 $z$로부터 $p(x) = \\frac{2}{7}x^{-5/7}$의 분포로 $0 \\le x \\le 1$를 추출하는 방법을 텍스트로 적어라."
      ],
      "metadata": {
        "id": "pvi3Vwp53Nzg"
      }
    },
    {
      "cell_type": "markdown",
      "source": [
        "> 균일한 난수 $z$로부터 x의 범위를 0 ~ 1로 추출하려면, 계산을 해야한다.\n",
        "\n",
        "> $\\Rightarrow$ 균일한 난수 $z$로부터, 확률밀도 $p(x)$를 가지는 난수 $x$를 만들어 내려면, $x = z^{\\frac{7}{2}}$로 두고 풀면 된다."
      ],
      "metadata": {
        "id": "kljtl5XG3b5V"
      }
    },
    {
      "cell_type": "markdown",
      "source": [
        "**(c)** (b)의 방법으로 추출한 $x$를 이용한 중요 표본 추출 방법으로 식 (3)의 적분값을 계산하는 프로그램을 작성하고 적분값을 출력하라."
      ],
      "metadata": {
        "id": "ZrE9cwrD3fy4"
      }
    },
    {
      "cell_type": "code",
      "source": [
        "import numpy as np\n",
        "\n",
        "def rep(N):\n",
        "  z = np.random.uniform(0,1,N)     ### 0 ~ root(2) 난수\n",
        "  x = z**(7/2)          ### 확률 밀도를 가지는 난수 x를 만들어냄\n",
        "  g = 1/(np.exp(x)+1)\n",
        "  g_mean_w = np.mean(g)\n",
        "  return((7/2)*g_mean_w)\n",
        "\n",
        "N = 4000\n",
        "\n",
        "print(rep(N))"
      ],
      "metadata": {
        "colab": {
          "base_uri": "https://localhost:8080/"
        },
        "id": "0dg4yLrw3NdE",
        "outputId": "a3cf925f-5d30-4135-e497-4815a44a81ee"
      },
      "execution_count": null,
      "outputs": [
        {
          "output_type": "stream",
          "name": "stdout",
          "text": [
            "1.5570818833066746\n"
          ]
        }
      ]
    },
    {
      "cell_type": "markdown",
      "source": [
        "**(d)** (a)를 $M = 25$ 반복하여 평균과 표준편차를 구하고 보고할 적분값을 출력하라."
      ],
      "metadata": {
        "id": "9Z3X2dfp48ZH"
      }
    },
    {
      "cell_type": "code",
      "source": [
        "import numpy as np\n",
        "import matplotlib.pyplot as plt\n",
        "\n",
        "def rep(N):\n",
        "  x = np.random.uniform(0,1,N) # 0 ~ 1 난수\n",
        "  f = (x**(-5/7))/(np.exp(x)+1)\n",
        "\n",
        "  return (np.mean(f)*(1-0))\n",
        "\n",
        "N = 4000            # 점 개수 N\n",
        "s=[]\n",
        "for i in range(25): # 실험 횟수 M = 25\n",
        "  s.append(rep(N))\n",
        "\n",
        "print('평균 : %f, 표준편차 : %f' %(np.mean(s),np.std(s)))\n",
        "print(\"수치실험 결과 : I = %f ± %f\" %(np.mean(s),(np.std(s)/(25**(1/2)))))"
      ],
      "metadata": {
        "colab": {
          "base_uri": "https://localhost:8080/"
        },
        "id": "7Xh1K7DX5Az6",
        "outputId": "c924748e-259e-4ea0-aaa6-c7c711b475d7"
      },
      "execution_count": null,
      "outputs": [
        {
          "output_type": "stream",
          "name": "stdout",
          "text": [
            "평균 : 1.529383, 표준편차 : 0.140410\n",
            "수치실험 결과 : I = 1.529383 ± 0.028082\n"
          ]
        }
      ]
    },
    {
      "cell_type": "markdown",
      "source": [
        "**(e)** (c)를 $M=25$ 반복하여 평균과 표준편차를 구하고 보고할 적분 값을 출력하라."
      ],
      "metadata": {
        "id": "RDg8eSwD5NOy"
      }
    },
    {
      "cell_type": "code",
      "source": [
        "import numpy as np\n",
        "\n",
        "def rep(N):\n",
        "  z = np.random.uniform(0,1,N)     ### 0 ~ root(2) 난수\n",
        "  x = z**(7/2)          ### 확률 밀도를 가지는 난수 x를 만들어냄\n",
        "  g = 1/(np.exp(x)+1)\n",
        "  g_mean_w = np.mean(g)\n",
        "  return((7/2)*g_mean_w)\n",
        "\n",
        "N = 4000\n",
        "s=[]\n",
        "for i in range(25): # 실험 횟수 R = 25\n",
        "  s.append(rep(N))\n",
        "\n",
        "print('평균 : %f, 표준편차 : %f' %(np.mean(s),np.std(s)))\n",
        "print(\"수치실험 결과 : I = %f ± %f\" %(np.mean(s),(np.std(s)/(25**(1/2)))))"
      ],
      "metadata": {
        "colab": {
          "base_uri": "https://localhost:8080/"
        },
        "id": "tgtTE9Rf5M44",
        "outputId": "ff1709bf-3fe3-4dd8-a3de-ccb5de5dc767"
      },
      "execution_count": null,
      "outputs": [
        {
          "output_type": "stream",
          "name": "stdout",
          "text": [
            "평균 : 1.561166, 표준편차 : 0.003604\n",
            "수치실험 결과 : I = 1.561166 ± 0.000721\n"
          ]
        }
      ]
    },
    {
      "cell_type": "markdown",
      "source": [
        "\n",
        "\n",
        "---\n",
        "\n"
      ],
      "metadata": {
        "id": "b_Cl4nwU58MW"
      }
    },
    {
      "cell_type": "markdown",
      "source": [
        "# **4.**"
      ],
      "metadata": {
        "id": "pqAZ-SlV59Lf"
      }
    },
    {
      "cell_type": "markdown",
      "source": [
        "해밀토니안이\n",
        "\n",
        "$H = -J\\displaystyle\\sum_{i=0}^{N-1} S_iS_{i+1} - B\\displaystyle\\sum_{i=0}^{N-1} S_i$\n",
        "\n",
        "로 주어지는 1차원 Ising 모형의 평균 자화율을 몬테칼로 시뮬레이션으로 구하려고 한다.\n",
        "\n",
        "온도 $T$인 평형 상태에 있을 때, 계가 $X = \\{S_0, S_1, ..., S_{N-1}\\}$ 상태에 있을 확률은\n",
        "\n",
        "$p(X;T) = \\frac{1}{Z(T)} e^{-H(X)/T}$\n",
        "\n",
        "로 주어진다. 여기서 $Z(T) = \\displaystyle\\sum_{X}^{} e^{-H(X)/T}$는 분배함수이다. 주기 경계 조건( $S_N = S_0$ )을 사용하고 $N = 10$ , $J = 1$ , $B = 0.5$인 경우를 고려하라."
      ],
      "metadata": {
        "id": "dEjw4cxp5_4o"
      }
    },
    {
      "cell_type": "markdown",
      "source": [
        "**(a)** 랜덤한 초기 상태를 만들고, 초기 스핀 상태를 출력하라."
      ],
      "metadata": {
        "id": "OyODG-sm7FAJ"
      }
    },
    {
      "cell_type": "code",
      "source": [
        "import numpy as np\n",
        "\n",
        "N = 10\n",
        "s = (np.random.randint(2,size=N))*2-1  ### 초기 스핀\n",
        "\n",
        "print(s)"
      ],
      "metadata": {
        "colab": {
          "base_uri": "https://localhost:8080/"
        },
        "id": "bQykD9Zm5_gp",
        "outputId": "f25d6533-eb38-472d-8039-b65d0fdb9a4f"
      },
      "execution_count": null,
      "outputs": [
        {
          "output_type": "stream",
          "name": "stdout",
          "text": [
            "[ 1  1  1  1  1 -1 -1  1  1  1]\n"
          ]
        }
      ]
    },
    {
      "cell_type": "markdown",
      "source": [
        "**(b)** 온도 $T = 1$일 때, 초기의 랜덤한 한 상태에서 평형 상태로 변화해가는 과정을 메트로폴리스 알고리즘으로 프로그램하고 초기($t = 0$)상태에서 $t = t_{max} = 100$까지 자화율\n",
        "\n",
        "$m(t) = \\frac{1}{N} \\displaystyle\\sum_{i=0}^{N-1} S_i(t)$\n",
        "\n",
        "을 시간 $t$의 그래프로 나타내어라."
      ],
      "metadata": {
        "id": "uesTOF3x7OFj"
      }
    },
    {
      "cell_type": "code",
      "source": [
        "import numpy as np\n",
        "import matplotlib.pyplot as plt\n",
        "\n",
        "# 변화하는 확률 구하기\n",
        "def proba():\n",
        "  p={}\n",
        "  for si in [-1,1]:\n",
        "    for sj in [-1,1]:\n",
        "      for sk in [-1,1]:\n",
        "        p[(si,sj,sk)] = np.exp((-2*J*(si+sk)*sj - 2*B*sj)/temp)\n",
        "  return(p)\n",
        "\n",
        "# 한 타임당 스핀이 변하게 하는 함수 !!\n",
        "def change_spin(N):\n",
        "  for n in range(N):\n",
        "    i = np.random.randint(0,N-1)   ### i번째의 스핀\n",
        "    iplus1 = i+1\n",
        "    if i == N-1:\n",
        "      iplus1 = 0\n",
        "    if np.random.rand() < pflip[(s[i-1],s[i],s[iplus1])]:\n",
        "      s[i] *= (-1)\n",
        "  return(s)\n",
        "\n",
        "# 초기 조건 & 시간별로 바뀌는 것 계산하기\n",
        "J=1; B=0.5; N=10; Tmax=100; temp=1\n",
        "s = (np.random.randint(2,size=N))*2-1  ### 초기 스핀\n",
        "mag = [np.mean(s)]\n",
        "pflip = proba()\n",
        "for t in range(1,Tmax):\n",
        "  mag.append(np.mean(change_spin(N)))\n",
        "\n",
        "# 그래프 그리기\n",
        "xt = np.linspace(0,Tmax-1,Tmax)\n",
        "plt.plot(xt,mag)\n",
        "plt.show()"
      ],
      "metadata": {
        "colab": {
          "base_uri": "https://localhost:8080/",
          "height": 265
        },
        "id": "2nqnaDjp7SfS",
        "outputId": "8e167823-0fa6-418b-c6f1-7fa9b781d2b9"
      },
      "execution_count": null,
      "outputs": [
        {
          "output_type": "display_data",
          "data": {
            "text/plain": [
              "<Figure size 432x288 with 1 Axes>"
            ],
            "image/png": "[encoded data removed]"
          },
          "metadata": {
            "needs_background": "light"
          }
        }
      ]
    },
    {
      "cell_type": "markdown",
      "source": [
        "**(c)** (b)의 과정을 $RPS = 100$번 반복하면서, 자화률\n",
        "\n",
        "$\\left\\langle m(t) \\right\\rangle = \\frac{1}{N} \\left\\langle \\displaystyle\\sum_{i} S_i(t) \\right\\rangle$\n",
        "\n",
        "의 평균값을 시간에 따른 그래프로 나타내고 평형 상태에서의 자화율 $m_{eq}$을 출력하라."
      ],
      "metadata": {
        "id": "7CSedEOs7haP"
      }
    },
    {
      "cell_type": "code",
      "source": [
        "import numpy as np\n",
        "import matplotlib.pyplot as plt\n",
        "\n",
        "# 변화하는 확률 구하기\n",
        "def proba():\n",
        "  p={}\n",
        "  for si in [-1,1]:\n",
        "    for sj in [-1,1]:\n",
        "      for sk in [-1,1]:\n",
        "        p[(si,sj,sk)] = np.exp((-2*J*(si+sk)*sj - 2*B*sj)/temp)\n",
        "  return(p)\n",
        "\n",
        "# 한 타임당 스핀이 변하게 하는 함수 !!\n",
        "def change_spin(N):\n",
        "  for n in range(N):\n",
        "    i = np.random.randint(0,N-1)   ### i번째의 스핀\n",
        "    iplus1 = i+1\n",
        "    if i == N-1:\n",
        "      iplus1 = 0\n",
        "    if np.random.rand() < pflip[(s[i-1],s[i],s[iplus1])]:\n",
        "      s[i] *= (-1)\n",
        "  return(s)\n",
        "\n",
        "# 반복~\n",
        "RPS = 100\n",
        "mag = [[] for i in range(RPS)]\n",
        "for r in range(RPS):\n",
        "  J=1; B=0.5; N=10; Tmax=100; temp=1\n",
        "  s = (np.random.randint(2,size=N))*2-1  ### 초기 스핀\n",
        "  mag[r].append(np.mean(s))\n",
        "  pflip = proba()\n",
        "  for t in range(1,Tmax):\n",
        "    mag[r].append(np.mean(change_spin(N)))\n",
        "\n",
        "# 평균 내기\n",
        "mag_eq = []\n",
        "for t in range(Tmax):\n",
        "  sum = 0\n",
        "  for r in range(RPS):\n",
        "    sum += mag[r][t]\n",
        "  mag_eq.append(sum/RPS)\n",
        "\n",
        "# 그래프 그리기\n",
        "xt = np.linspace(0,Tmax-1,Tmax)\n",
        "plt.plot(xt,mag_eq)\n",
        "plt.show()\n",
        "\n",
        "# 평형 상태 자화율\n",
        "N = 0; sum = 0\n",
        "for i in range(80,100):\n",
        "  N += 1; sum += mag_eq[i]\n",
        "print('평형 상태에서의 자화율 =',sum/N)"
      ],
      "metadata": {
        "colab": {
          "base_uri": "https://localhost:8080/",
          "height": 283
        },
        "id": "hnblTlMl7oD8",
        "outputId": "767e8b4e-1403-41ee-d1cc-88a5417202cf"
      },
      "execution_count": null,
      "outputs": [
        {
          "output_type": "display_data",
          "data": {
            "text/plain": [
              "<Figure size 432x288 with 1 Axes>"
            ],
            "image/png": "[encoded data removed]"
          },
          "metadata": {
            "needs_background": "light"
          }
        },
        {
          "output_type": "stream",
          "name": "stdout",
          "text": [
            "평형 상태에서의 자화율 = 0.7445999999999999\n"
          ]
        }
      ]
    },
    {
      "cell_type": "markdown",
      "source": [
        "**(d)** 온도 $T = 0.2, 0.5, 1.0, 1.5, 2.0, 3.0, 6.0$에 대하여 평형 상태의 평균 자화율을 구하고, 평형 상태 자화율을 온도에 따른 그래프를 그려라."
      ],
      "metadata": {
        "id": "xJqopIA17onW"
      }
    },
    {
      "cell_type": "code",
      "source": [
        "import numpy as np\n",
        "import matplotlib.pyplot as plt\n",
        "\n",
        "# 변화하는 확률 구하기\n",
        "def proba(temp):\n",
        "  p={}\n",
        "  for si in [-1,1]:\n",
        "    for sj in [-1,1]:\n",
        "      for sk in [-1,1]:\n",
        "        p[(si,sj,sk)] = np.exp((-2*J*(si+sk)*sj - 2*B*sj)/temp)\n",
        "  return(p)\n",
        "\n",
        "# 한 타임당 스핀이 변하게 하는 함수 !!\n",
        "def change_spin(N):\n",
        "  for n in range(N):\n",
        "    i = np.random.randint(0,N-1)   ### i번째의 스핀\n",
        "    iplus1 = i+1\n",
        "    if i == N-1:\n",
        "      iplus1 = 0\n",
        "    if np.random.rand() < pflip[(s[i-1],s[i],s[iplus1])]:\n",
        "      s[i] *= (-1)\n",
        "  return(s)\n",
        "\n",
        "# 초기 조건, 자화율 그리기\n",
        "Tmax = 50   ### 온도별 지속 시간\n",
        "Templist = [0.2, 0.5, 1.0, 1.5, 2.0, 3.0, 6.0]\n",
        "J=1; B=0.5; N=10; temp=1; tempIndex=0\n",
        "s = np.ones(N)   ### 온도 0에서 시작하는 초기 스핀 N개\n",
        "mag = [np.mean(s)]\n",
        "for t in range(1,Tmax*len(Templist)):\n",
        "  if t%Tmax == 0:\n",
        "    tempIndex += 1\n",
        "  T = Templist[tempIndex]\n",
        "  pflip = proba(T)   ### 온도에 따른 확률\n",
        "  change_spin(N)   ### 확률에 따라 스핀(N번) 바꾸기 => 한 타임\n",
        "  mag.append(np.mean(change_spin(N)))   ### 자화율 저장\n",
        "\n",
        "# 평형 상태의 자화율의 평균\n",
        "t_eq = 30   ### 평형상태가 되는 시간\n",
        "t_mea = 20   ### 평형상태가 유지되는 시간\n",
        "mag_eq = []\n",
        "for i in range(len(Templist)):\n",
        "  sum = 0\n",
        "  for t in range(((Tmax*i)+t_eq+1), ((Tmax*i)+t_eq+t_mea)):\n",
        "    sum += mag[t]\n",
        "  mag_eq.append(sum/(t_mea))\n",
        "\n",
        "# 그래프 그리기\n",
        "plt.plot(Templist,mag_eq)\n",
        "plt.xlabel('T')\n",
        "plt.ylabel('m(T)')\n",
        "plt.show()"
      ],
      "metadata": {
        "colab": {
          "base_uri": "https://localhost:8080/",
          "height": 279
        },
        "id": "DEEi2uENm3ya",
        "outputId": "53b45764-da49-4f18-9f8e-c30cdadeb27c"
      },
      "execution_count": null,
      "outputs": [
        {
          "output_type": "display_data",
          "data": {
            "text/plain": [
              "<Figure size 432x288 with 1 Axes>"
            ],
            "image/png": "[encoded data removed]"
          },
          "metadata": {
            "needs_background": "light"
          }
        }
      ]
    },
    {
      "cell_type": "markdown",
      "source": [
        "**(e)** 메트로폴리스 중요도 선택이 아니라 균일(uniform) 표본 방식으로 평형 상태의 평균 자화율을 구하려고 한다. (a)의 랜덤 스핀 상태에서 균일(uniform) 표본 방식으로 표본을 만들면서\n",
        "\n",
        "$m_{eq}(T) = \\displaystyle\\sum_{X}p(X;T)m(X)$\n",
        "\n",
        "를 계산하여 $T = 0.2, 0.5, 1.0, 1.5, 2.0, 3.0, 6.0$에서 평형상태 자화율을 구하고 평형 상태 자화율을 온도에 따른 그래프를 그려라."
      ],
      "metadata": {
        "id": "dXVrTDk7m4Sk"
      }
    },
    {
      "cell_type": "code",
      "source": [
        "import numpy as np\n",
        "import matplotlib.pyplot as plt\n",
        "\n",
        "# 해밀토니안\n",
        "def exp_Hamiltonian(s,temp):\n",
        "  J = 1; B = 0.5\n",
        "  sm = np.roll(s,1)\n",
        "  H = ((-1) * J * np.sum(s*sm)) - (B * np.sum(s))\n",
        "  return(np.exp((-1)*H/temp))\n",
        "\n",
        "Templist = [0.2, 0.5, 1.0, 1.5, 2.0, 3.0, 6.0]\n",
        "N=10; m_eq = []\n",
        "s = np.ones(N)\n",
        "for i in range(len(Templist)):\n",
        "  sAll = [s]\n",
        "  temp = Templist[i]\n",
        "  for n in range(N):\n",
        "    index = np.random.randint(0,N-1)\n",
        "    s[index] *= (-1)\n",
        "    sAll.append(s)\n",
        "  # 분모, 분자\n",
        "  Z = 0; pm = 0\n",
        "  for j in range(len(sAll)):\n",
        "    Z += (exp_Hamiltonian(sAll[j],temp))\n",
        "    pm += ((exp_Hamiltonian(sAll[j],temp)) * np.mean(sAll[j]))\n",
        "  m_eq.append(pm/Z)\n",
        "\n",
        "# 그래프 그리기\n",
        "plt.plot(Templist,mag_eq)\n",
        "plt.xlabel('T')\n",
        "plt.ylabel('m(T)')\n",
        "plt.show()"
      ],
      "metadata": {
        "colab": {
          "base_uri": "https://localhost:8080/",
          "height": 279
        },
        "id": "swqsOfTCneRt",
        "outputId": "2b845f8d-c4c7-4a15-e750-76b4dc1ff697"
      },
      "execution_count": null,
      "outputs": [
        {
          "output_type": "display_data",
          "data": {
            "text/plain": [
              "<Figure size 432x288 with 1 Axes>"
            ],
            "image/png": "[encoded data removed]"
          },
          "metadata": {
            "needs_background": "light"
          }
        }
      ]
    },
    {
      "cell_type": "markdown",
      "source": [
        "**(f)** 평형 상태 자화율을 수치적으로 exact하게 구하려고 한다. $N = 10$일 때, 가능한 모든 상태 $X$에 대하여 Eq.(8)를 계산하여 $T = 0.2, 0.5, 1.0, 1.5, 2.0, 3.0, 6.0$에서 평형상태 자화율을 구하고 평형 상태 자화율을 온도에 따른 그래프를 그려라."
      ],
      "metadata": {
        "id": "jWrAnfp0netF"
      }
    },
    {
      "cell_type": "code",
      "source": [
        "import numpy as np\n",
        "import matplotlib.pyplot as plt\n",
        "\n",
        "# 스핀 전체 종류(sAll)\n",
        "sAll = []\n",
        "for a in (-1,1):\n",
        "  for b in (-1,1):\n",
        "    for c in (-1,1):\n",
        "      for d in (-1,1):\n",
        "        for e in (-1,1):\n",
        "          for f in (-1,1):\n",
        "            for g in (-1,1):\n",
        "              for h in (-1,1):\n",
        "                for i in (-1,1):\n",
        "                  for j in (-1,1):\n",
        "                    sAll.append([a,b,c,d,e,f,g,h,i,j])\n",
        "\n",
        "# 해밀토니안\n",
        "def exp_Hamiltonian(s,temp):\n",
        "  J = 1; B = 0.5\n",
        "  sm = np.roll(s,1)\n",
        "  H = ((-1) * J * np.sum(s*sm)) - (B * np.sum(s))\n",
        "  return(np.exp((-1)*H/temp))\n",
        "\n",
        "# m_eq 구하기\n",
        "Templist = [0.2, 0.5, 1.0, 1.5, 2.0, 3.0, 6.0]\n",
        "m_eq = []\n",
        "for i in range(len(Templist)):\n",
        "  temp = Templist[i]\n",
        "  # 분모, 분자\n",
        "  Z = 0; pm = 0\n",
        "  for j in range(len(sAll)):\n",
        "    Z += (exp_Hamiltonian(sAll[j],temp))\n",
        "    pm += ((exp_Hamiltonian(sAll[j],temp)) * np.mean(sAll[j]))\n",
        "  m_eq.append(pm/Z)\n",
        "\n",
        "# 그래프 그리기\n",
        "print(m_eq)\n",
        "plt.plot(Templist,m_eq)\n",
        "plt.xlabel('T')\n",
        "plt.ylabel('m(T)')\n",
        "plt.show()"
      ],
      "metadata": {
        "colab": {
          "base_uri": "https://localhost:8080/",
          "height": 317
        },
        "id": "kfnQEoHMn0X1",
        "outputId": "90293254-158c-43f2-e37f-33ecae9f9931"
      },
      "execution_count": null,
      "outputs": [
        {
          "output_type": "stream",
          "name": "stdout",
          "text": [
            "[0.9999999999718461, 0.9998785702024152, 0.9678308015496282, 0.7896251270093472, 0.565957600066725, 0.31005096325543285, 0.11565434735335042]\n"
          ]
        },
        {
          "output_type": "display_data",
          "data": {
            "text/plain": [
              "<Figure size 432x288 with 1 Axes>"
            ],
            "image/png": "[encoded data removed]"
          },
          "metadata": {
            "needs_background": "light"
          }
        }
      ]
    },
    {
      "cell_type": "markdown",
      "source": [
        "# **5.**"
      ],
      "metadata": {
        "id": "5NQoxKTUn0wK"
      }
    },
    {
      "cell_type": "markdown",
      "source": [
        "2명이 한 팀이 되어 경기하는 게임에 6명이 참가 신청을 하였다. 이들의 개인 게임 능력치는 다음 표와 같다.\n",
        "- 선수 : P0 → 능력치 : 59\n",
        "- 선수 : P1 → 능력치 : 38\n",
        "- 선수 : P2 → 능력치 : 83\n",
        "- 선수 : P3 → 능력치 : 46\n",
        "- 선수 : P4 → 능력치 : 18\n",
        "- 선수 : P5 → 능력치 : 70\n",
        "\n",
        "각 팀의 능력치는 그 팀을 구성하고 있는 팀원의 능력치의 합으로 주어진다고 하자."
      ],
      "metadata": {
        "id": "P-GHnfvun-Iu"
      }
    },
    {
      "cell_type": "markdown",
      "source": [
        "**(a)** 세 팀을 t0 = (P0, P1), t1 = (P2, P3), t3 = (P4, P5)로 구성했을 떄, 각 팀의 능력치를 구하고, 팀들 간의 능력치의 분산을 구하라."
      ],
      "metadata": {
        "id": "mZ3p6jlSpDlS"
      }
    },
    {
      "cell_type": "code",
      "source": [
        "import numpy as np\n",
        "\n",
        "player = ['P0','P1','P2','P3','P4','P5']\n",
        "score = [59,38,83,46,18,70]\n",
        "\n",
        "t0 = 0; t1 = 0; t2 = 0\n",
        "for i in range(len(player)):\n",
        "  if (i==0) or (i==1):\n",
        "    t0 += score[i]\n",
        "  elif (i==2) or (i==3):\n",
        "    t1 += score[i]\n",
        "  else:\n",
        "    t2 += score[i]\n",
        "\n",
        "t = [t0, t1, t2]\n",
        "print(t)\n",
        "\n",
        "print(np.var(t))"
      ],
      "metadata": {
        "colab": {
          "base_uri": "https://localhost:8080/"
        },
        "id": "446X4XKWpZG9",
        "outputId": "cbc884c0-065e-4a5e-91cc-e3553cc6051a"
      },
      "execution_count": null,
      "outputs": [
        {
          "output_type": "stream",
          "name": "stdout",
          "text": [
            "[97, 129, 88]\n",
            "309.55555555555554\n"
          ]
        }
      ]
    },
    {
      "cell_type": "markdown",
      "source": [
        "**(b)** 담근질 시늉으로 팀들 간의 능력치의 분산이 최소가 되게 세 팀을 구성하고 그 때의 팀들 간 능력치 분산을 구하라."
      ],
      "metadata": {
        "id": "-xR9NSUZpaiO"
      }
    },
    {
      "cell_type": "markdown",
      "source": [
        "**=== delta_var 쓰니까 값이 잘 안나옴**"
      ],
      "metadata": {
        "id": "t78p6OjspCIw"
      }
    },
    {
      "cell_type": "code",
      "source": [
        "import numpy as np\n",
        "\n",
        "player = ['P0','P1','P2','P3','P4','P5']\n",
        "score = [59,38,83,46,18,70]\n",
        "\n",
        "# 초기 조건\n",
        "t = [0,1,2,3,4,5]\n",
        "team = [[] for i in range(3)]\n",
        "for i in range(3):\n",
        "  team[i] = np.random.choice(t,2,replace=False)\n",
        "  for j in range(len(team[i])): t.remove(team[i][j])\n",
        "Tmin = 1e-100; Tmax = 100; ttt = 0\n",
        "T = Tmax * np.exp(-ttt/100000)\n",
        "\n",
        "# 팀 위치 바꾸는 합수 !!\n",
        "def swap(i,j,m1,m2):\n",
        "  s = team[i][m1]; team[i][m1] = team[j][m2]; team[j][m2] = s\n",
        "\n",
        "# 분산 구하는 함수\n",
        "def var():\n",
        "  sum = [0,0,0]\n",
        "  for i in range(len(team)):\n",
        "    for j in range(len(team[i])):\n",
        "      sum[i] += (score[team[i][j]])\n",
        "  return(np.var(sum))\n",
        "\n",
        "# swap 전과 후의 분산 차이를 구하는 함수\n",
        "def Delta_V(i,j,m1,m2):\n",
        "  mean = np.sum(score) / 3\n",
        "  V_before = ((team[i][m1] + team[i][1-m1] - mean)**2 + (team[j][m2] + team[j][1-m2] - mean)**2) / 3\n",
        "  V_after = ((team[j][m2] + team[i][1-m1] - mean)**2 + (team[i][m1] + team[j][1-m2] - mean)**2) / 3\n",
        "  return(V_after - V_before)\n",
        "\n",
        "# 실행 !!\n",
        "Vmin = var()\n",
        "while T > Tmin:\n",
        "  ## 바꾸기\n",
        "  i = np.random.randint(0,3) ; j = np.random.randint(0,2)   ### index 주의\n",
        "  if i == j: j = 2\n",
        "  m1 = np.random.randint(0,2) ; m2 = np.random.randint(0,2)\n",
        "  ## 전이 허용\n",
        "  vv = Delta_V(i,j,m1,m2)\n",
        "  if (vv < 0) or ((vv >= 0) and (np.random.rand() < np.exp((-1)*vv/T))) :\n",
        "    swap(i,j,m1,m2); Vmin += vv\n",
        "  ttt+=1; T = Tmax * np.exp(-ttt/100000)   ### 온도 변화에 민감하게\n",
        "\n",
        "print(team)\n",
        "print(Vmin)"
      ],
      "metadata": {
        "colab": {
          "base_uri": "https://localhost:8080/"
        },
        "id": "MR5Mh_kTpf2H",
        "outputId": "08e38f0a-fb87-4414-e29b-f9f413e27842"
      },
      "execution_count": null,
      "outputs": [
        {
          "output_type": "stream",
          "name": "stdout",
          "text": [
            "[array([1, 4]), array([0, 5]), array([2, 3])]\n",
            "173.5555555557429\n"
          ]
        }
      ]
    },
    {
      "cell_type": "markdown",
      "source": [
        "**(c)** 세 팀간의 Round-robin Tournament를 두 번 실시하려고 한다. 두 번째 Tournament의 팀 구성은 첫 번째 Tournament에서 한 팀이었던 경우를 제외하고 구성한다고 하자. 첫 번째 Tournament팀간의 분산과 두 번째 Tournament 팀간의 분산의 합이 최소가 되게 팀을 구성하라."
      ],
      "metadata": {
        "id": "Mz6rSFrGpgQa"
      }
    },
    {
      "cell_type": "markdown",
      "source": [
        "**======= 모르겠음**"
      ],
      "metadata": {
        "id": "ZzHMwSdcnoOV"
      }
    },
    {
      "cell_type": "code",
      "source": [
        "# 초기 조건\n",
        "team = [[[] for i in range(3)] for r in range(2)]\n",
        "for r in range(2):\n",
        "  t = [0,1,2,3,4,5]\n",
        "  for i in range(3):\n",
        "    team[r][i] = np.random.choice(t,2,replace=False)\n",
        "    for j in range(len(team[r][i])): t.remove(team[r][i][j])\n",
        "Tmin = 1e-10; Tmax = 100; ttt = 0\n",
        "T = Tmax * np.exp(-ttt/100000)\n",
        "print(team)\n",
        "\n",
        "# 팀 위치 바꾸는 합수 !!\n",
        "def swap(r,i,j,m1,m2):\n",
        "  s = team[r][i][m1]; team[r][i][m1] = team[r][j][m2]; team[r][j][m2] = s\n",
        "\n",
        "# 분산 합 구하는 함수\n",
        "def var():\n",
        "  sum = [[0,0,0],[0,0,0]]\n",
        "  for r in range(len(team)):\n",
        "    for i in range(len(team[r])):\n",
        "      for j in range(len(team[r][i])):\n",
        "        sum[r][i] += (score[team[r][i][j]])\n",
        "  return(np.var(sum[0]) + np.var(sum[1]))\n",
        "\n",
        "# swap 전과 후의 분산 차이를 구하는 함수\n",
        "def Delta_V(r,i,j,m1,m2):\n",
        "  mean = np.sum(score[r]) / 3\n",
        "  V_before = ((team[r][i][m1] + team[r][i][1-m1] - mean)**2 + (team[r][j][m2] + team[r][j][1-m2] - mean)**2) / 3\n",
        "  V_after = ((team[r][j][m2] + team[r][i][1-m1] - mean)**2 + (team[r][i][m1] + team[r][j][1-m2] - mean)**2) / 3\n",
        "  return(V_after - V_before)\n",
        "\n",
        "# swap한 팀이 겹치지 않게 하는 함수\n",
        "def check(r,i1,j1,m11,m12,i2,j2,m21,m22):\n",
        "  s1 = team[r][i1][m11]; team[r][i1][m11] = team[r][j1][m12]; team[r][j1][m12] = s1\n",
        "  s2 = team[r][i2][m21]; team[r][i2][m21] = team[r][j2][m22]; team[r][j2][m22] = s2\n",
        "  for i in range(3):\n",
        "    if team[0][i] in team[1]:\n",
        "\n",
        "\n",
        "# 실행 !!\n",
        "Vmin = var()\n",
        "while T > Tmin:\n",
        "  ## 바꾸기\n",
        "  i1 = np.random.randint(0,3) ; j1 = np.random.randint(0,2)   ### index 주의\n",
        "  if i1 == j1: j1 = 2\n",
        "  m11 = np.random.randint(0,2) ; m12 = np.random.randint(0,2)\n",
        "  i2 = np.random.randint(0,3) ; j2 = np.random.randint(0,2)   ### index 주의\n",
        "  if i2 == j2: j2 = 2\n",
        "  m21 = np.random.randint(0,2) ; m22 = np.random.randint(0,2)\n",
        "  ## 팀이 전혀 겹치지 않게 !\n",
        "\n",
        "  ## 전이 허용\n",
        "  vv = Delta_V(i,j,m1,m2)\n",
        "  if (vv < 0) or ((vv >= 0) and (np.random.rand() < np.exp((-1)*vv/T))) :\n",
        "    swap(i,j,m1,m2); Vmin += vv\n",
        "  ttt+=1; T = Tmax * np.exp(-ttt/100000)   ### 온도 변화에 민감하게\n",
        "\n",
        "print(team)\n",
        "print(Vmin)"
      ],
      "metadata": {
        "colab": {
          "base_uri": "https://localhost:8080/"
        },
        "id": "VIoTEVbdpv65",
        "outputId": "0340a636-5609-4e37-e762-f4fb998e00f6"
      },
      "execution_count": null,
      "outputs": [
        {
          "output_type": "stream",
          "name": "stdout",
          "text": [
            "[[array([4, 5]), array([3, 0]), array([1, 2])], [array([5, 2]), array([3, 4]), array([1, 0])]]\n"
          ]
        }
      ]
    },
    {
      "cell_type": "markdown",
      "source": [
        "**(d)** Tournament 한 번에 대하여 가능한 모든 팀 배정 방법을 모두 출력하고 각각에 대하여 팀들 간 능력치의 분산을 적어라."
      ],
      "metadata": {
        "id": "PebjJasjpwd8"
      }
    },
    {
      "cell_type": "code",
      "source": [
        "import numpy as np\n",
        "score = [59,38,83,46,18,70]\n",
        "\n",
        "# 모든 팀 배정\n",
        "teamList = []\n",
        "for i in range(1,6):\n",
        "  t = [0,1,2,3,4,5]\n",
        "  a = 0 ; t.remove(a) ; b = i ; t.remove(b)\n",
        "  c = np.min(t) ; t.remove(c)\n",
        "  for j in t:\n",
        "    tt = [t[i] for i in range(len(t))]\n",
        "    d = j ; tt.remove(d)\n",
        "    e = np.min(tt) ; tt.remove(e) ; f = tt[0]\n",
        "    teamList.append([[a,b],[c,d],[e,f]])\n",
        "\n",
        "# 분산 구하는 함수\n",
        "def var(team):\n",
        "  sum = [0,0,0]\n",
        "  for i in range(len(team)):\n",
        "    for j in range(len(team[i])):\n",
        "      sum[i] += (score[team[i][j]])\n",
        "  return(np.var(sum))\n",
        "\n",
        "for i in range(len(teamList)):\n",
        "  print(\"[[%d, %d], [%d, %d], [%d, %d]] : %f\" %(teamList[i][0][0],teamList[i][0][1],teamList[i][1][0],teamList[i][1][1],teamList[i][2][0],teamList[i][2][1],var(teamList[i])))"
      ],
      "metadata": {
        "colab": {
          "base_uri": "https://localhost:8080/"
        },
        "id": "Z-ujKPsDp20I",
        "outputId": "8dbeae91-530c-4284-b456-bec24c13efaf"
      },
      "execution_count": null,
      "outputs": [
        {
          "output_type": "stream",
          "name": "stdout",
          "text": [
            "[[0, 1], [2, 3], [4, 5]] : 309.555556\n",
            "[[0, 1], [2, 4], [3, 5]] : 66.888889\n",
            "[[0, 1], [2, 5], [3, 4]] : 1349.555556\n",
            "[[0, 2], [1, 3], [4, 5]] : 699.555556\n",
            "[[0, 2], [1, 4], [3, 5]] : 1296.888889\n",
            "[[0, 2], [1, 5], [3, 4]] : 1019.555556\n",
            "[[0, 3], [1, 2], [4, 5]] : 181.555556\n",
            "[[0, 3], [1, 4], [2, 5]] : 1568.222222\n",
            "[[0, 3], [1, 5], [2, 4]] : 8.222222\n",
            "[[0, 4], [1, 2], [3, 5]] : 386.888889\n",
            "[[0, 4], [1, 3], [2, 5]] : 1176.222222\n",
            "[[0, 4], [1, 5], [2, 3]] : 456.222222\n",
            "[[0, 5], [1, 2], [3, 4]] : 837.555556\n",
            "[[0, 5], [1, 3], [2, 4]] : 344.222222\n",
            "[[0, 5], [1, 4], [2, 3]] : 1184.222222\n"
          ]
        }
      ]
    }
  ]
}