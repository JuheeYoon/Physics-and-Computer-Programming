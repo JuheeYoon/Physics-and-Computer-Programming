{
  "nbformat": 4,
  "nbformat_minor": 0,
  "metadata": {
    "colab": {
      "provenance": []
    },
    "kernelspec": {
      "name": "python3",
      "display_name": "Python 3"
    },
    "language_info": {
      "name": "python"
    }
  },
  "cells": [
    {
      "cell_type": "markdown",
      "source": [
        "# **3주차 - 2** : 중요도 추출법, 균일 표본 방법, 중요도 표본 방법"
      ],
      "metadata": {
        "id": "axUgq6_7eP38"
      }
    },
    {
      "cell_type": "markdown",
      "source": [
        "**Q5**.\n",
        "\n",
        "구간 $I = (0, 1)$을 $M = 50$개의 균등한 구간 $I_i (i \\in \\{1, 2, \\cdots , M\\})$으로 나눈 후, 구간 $I$에서 균일한 확률로 난수 $z$를 $N = 10^5$뽑자.\n",
        "\n",
        "\n",
        "(a) 구간 $I_i$에 속한 $z$의 갯수 $N_i$를 출력하라.\n",
        "\n",
        "(b) $N_i$ vs. $i$를 그래프 그리고, 상수 함수 $y = C$와 비교하라. (C값은 얼마가 되어야 하는가?)\n",
        "\n",
        "(c) 구간 $I_i$에 속한 $z^2$의 갯수 $n_i$를 출력하라.\n",
        "\n",
        "(d) $n_i$ vs. $i$를 그래프 그리고 $y = \\frac{C}{2\\sqrt{x}}$와 비교하라.(C값은 얼마가 되어야 하는가?)"
      ],
      "metadata": {
        "id": "WATkvEEXfaRu"
      }
    },
    {
      "cell_type": "markdown",
      "source": [
        "# 1. 난수 $z$의 히스토그램 [Q5 - (a), (b)]"
      ],
      "metadata": {
        "id": "dYvXWILNQwOh"
      }
    },
    {
      "cell_type": "markdown",
      "source": [
        "1. 0 ~ 1 사이의 bin 50개 만들기\n",
        ": 0 ~ 0.02 / 0.02 ~ 0.04 / 0.04 ~ 0.06 / ... / 0.98 ~ 1.00\n",
        "2. 0 ~ 1 범위의 난수 z를 해당하는 bin의 개수에 +1 씩 하기 -> 출력하기\n",
        "3. z의 histogram 그리기\n",
        "\n",
        "※ bar 그래프로 그리면, histogram처럼 그릴 수 없음\n",
        ">x축을 histogram에서는 자동으로 bin으로(0 ~ 0.02 , 0.02 ~ 0.04, ...) 잡아주지만, bar 막대그래프에서는 **특정 숫자나 문자로** 지정을 해야한다 !\n",
        "=> bin의 가운데에서 잘 보이게끔, bin의 대표값으로 **중앙값**으로 지정(0.01,0.03,...)\n",
        "\n",
        "4. 확률 밀도 : $p(x) = C$ 를 그려 비교해보기"
      ],
      "metadata": {
        "id": "CrfIX_UiRCFb"
      }
    },
    {
      "cell_type": "code",
      "execution_count": null,
      "metadata": {
        "colab": {
          "base_uri": "https://localhost:8080/",
          "height": 359
        },
        "id": "ZmI63sLjO8GM",
        "outputId": "23b66ec8-a321-4390-8fcf-116731d17767"
      },
      "outputs": [
        {
          "output_type": "stream",
          "name": "stdout",
          "text": [
            "[1986. 2002. 1939. 2042. 2057. 2076. 2034. 1973. 1980. 1970. 2000. 1988.\n",
            " 1998. 1999. 2024. 2124. 2053. 1978. 1992. 1940. 1989. 2090. 1985. 1969.\n",
            " 2033. 2001. 2071. 1913. 1943. 1957. 2042. 2000. 2005. 2040. 1937. 1961.\n",
            " 2031. 1946. 1909. 2052. 2012. 1977. 2018. 1937. 2090. 2031. 1957. 2019.\n",
            " 1968. 1962.]\n"
          ]
        },
        {
          "output_type": "display_data",
          "data": {
            "text/plain": [
              "<Figure size 432x288 with 1 Axes>"
            ],
            "image/png": "[encoded data removed]"
          },
          "metadata": {
            "needs_background": "light"
          }
        }
      ],
      "source": [
        "import numpy as np\n",
        "import matplotlib.pyplot as plt\n",
        "\n",
        "# 0 ~ 1사이의 bin 50개\n",
        "z_hist=np.zeros(50)\n",
        "\n",
        "# 100000개의 난수 z\n",
        "for i in range(100000):\n",
        "  z_hist[int(np.random.rand()*50)]+=1\n",
        "print(z_hist)\n",
        "\n",
        "# 그래프\n",
        "x=np.arange(1,51)*0.02-0.01    ### bin의 대표값 = 중앙값\n",
        "p_x=0*x+2000   # C=2000\n",
        "plt.bar(x,z_hist,width=0.02)\n",
        "plt.plot(x,p_x, color='red')\n",
        "\n",
        "plt.show()"
      ]
    },
    {
      "cell_type": "markdown",
      "source": [
        "# 2. 난수 $z^2$의 히스토그램 [Q5 - (c), (d)]"
      ],
      "metadata": {
        "id": "oZWrBox3Rpeh"
      }
    },
    {
      "cell_type": "markdown",
      "source": [
        "1. 0 ~ 1 사이의 bin 50개 만들기\n",
        ": 0 ~ 0.02 / 0.02 ~ 0.04 / 0.04 ~ 0.06 / ... / 0.98 ~ 1.00\n",
        "2. 0 ~ 1 범위의 난수 $z$를 $z^2$으로 만들어주기\n",
        "3.해당하는 bin의 개수에 +1 씩 하기\n",
        "4. $z^2$의 histogram 그리기\n",
        "\n",
        "※ bar 그래프로 그리면, histogram처럼 그릴 수 없음\n",
        ">x축을 histogram에서는 자동으로 bin으로(0 ~ 0.02 , 0.02 ~ 0.04, ...) 잡아주지만, bar 막대그래프에서는 **특정 숫자나 문자로** 지정을 해야한다 !\n",
        "=> bin의 가운데에서 잘 보이게끔, bin의 대표값으로 **중앙값**으로 지정(0.01,0.03,...)\n",
        "\n",
        "5. 확률 밀도 : $p(x) = \\frac{C}{2\\sqrt{x}}$ 를 그려 비교해보기"
      ],
      "metadata": {
        "id": "UCQ4C3sZR6hk"
      }
    },
    {
      "cell_type": "code",
      "source": [
        "import numpy as np\n",
        "import matplotlib.pyplot as plt\n",
        "\n",
        "# 0 ~ 1사이의 bin 50개\n",
        "z2_hist=np.zeros(50)\n",
        "\n",
        "# 10000개의 난수 z\n",
        "for i in range(100000):\n",
        "  z2_hist[int(np.square(np.random.rand())*50)]+=1\n",
        "print(z2_hist)\n",
        "\n",
        "# 그래프\n",
        "x=np.arange(1,51)*0.02-0.01         ### bin의 대표값 = 중앙값\n",
        "p_x=2000/(2*x**(1/2))  # C=2000\n",
        "plt.bar(x,z2_hist,width=0.02)\n",
        "plt.plot(x,p_x, color='red')\n",
        "\n",
        "plt.show()"
      ],
      "metadata": {
        "colab": {
          "base_uri": "https://localhost:8080/",
          "height": 359
        },
        "id": "hT6vakO6Sr7c",
        "outputId": "580b720c-5768-4fa2-c1b5-e46210830cbf"
      },
      "execution_count": null,
      "outputs": [
        {
          "output_type": "stream",
          "name": "stdout",
          "text": [
            "[14232.  5804.  4564.  3816.  3336.  3064.  2761.  2558.  2413.  2348.\n",
            "  2257.  2169.  2024.  1848.  1928.  1863.  1744.  1661.  1656.  1642.\n",
            "  1566.  1544.  1480.  1470.  1418.  1393.  1399.  1304.  1319.  1296.\n",
            "  1303.  1219.  1202.  1141.  1181.  1137.  1172.  1133.  1100.  1191.\n",
            "  1110.  1051.  1043.   995.  1073.  1038.  1038.  1042.   973.   981.]\n"
          ]
        },
        {
          "output_type": "display_data",
          "data": {
            "text/plain": [
              "<Figure size 432x288 with 1 Axes>"
            ],
            "image/png": "[encoded data removed]"
          },
          "metadata": {
            "needs_background": "light"
          }
        }
      ]
    },
    {
      "cell_type": "markdown",
      "source": [
        "\n",
        "\n",
        "---\n",
        "\n"
      ],
      "metadata": {
        "id": "wXbFiW4bgvKC"
      }
    },
    {
      "cell_type": "markdown",
      "source": [
        "**Q6**.\n",
        "\n",
        "몬테칼로 적분을 이용하여 $I = \\int_{0}^{1} \\frac{x^{-1/2}}{e^x+1} dx$ 를 계산하려고 한다.\n",
        "\n",
        "(a) 균일 표본 방법으로 $N = 10^4$을 이용하여 적분을 10회 계산하고 보고할 값을 출력하라.\n",
        "\n",
        "(b) $\\frac{1}{\\sqrt{x}}$ 에 비례하는 중요도 표본 방법으로 $N = 10^4$을 이용하여 적분을 10회 계산하고 보고할 값을 출력하고 (a)의 결과와 비교하라."
      ],
      "metadata": {
        "id": "C6KhLUbdgux4"
      }
    },
    {
      "cell_type": "markdown",
      "source": [
        "# 3. 몬테칼로 적분 - 균일 표본 방법 [Q6 - (a)]"
      ],
      "metadata": {
        "id": "sS2yX4bnTkyu"
      }
    },
    {
      "cell_type": "markdown",
      "source": [
        "1. 균일 표본 방법 : uniform한 난수를 생성해서 사용\n",
        "2. **평균값 방법 이용**\n",
        "> $I \\approx (\\frac{1}{N} \\sum_{i=1}^{N} f(x_i)) \\times (b-a)$\n",
        "\n",
        "  > ※ 참값 : 0.8389...\n"
      ],
      "metadata": {
        "id": "0b2KCG4ST8Bi"
      }
    },
    {
      "cell_type": "code",
      "source": [
        "import numpy as np\n",
        "import matplotlib.pyplot as plt\n",
        "\n",
        "def rep(N):\n",
        "  x = np.random.uniform(0,1,N) # 0 ~ 1 난수\n",
        "  f = (x**(-1/2))/(np.exp(x)+1)\n",
        "\n",
        "  return (np.mean(f)*(1-0))\n",
        "\n",
        "N = 10000             # 점 개수 N\n",
        "s=[]\n",
        "for i in range(10): # 실험 횟수 R = 10\n",
        "  s.append(rep(N))\n",
        "\n",
        "print(\"수치실험 결과 : I = %f ± %f\" %(np.mean(s),(np.std(s)/(10**(1/2)))))"
      ],
      "metadata": {
        "colab": {
          "base_uri": "https://localhost:8080/"
        },
        "id": "hlyJsOWHT8oI",
        "outputId": "4194cfc2-4ce2-4987-fe22-49ad05ed7e29"
      },
      "execution_count": null,
      "outputs": [
        {
          "output_type": "stream",
          "name": "stdout",
          "text": [
            "수치실험 결과 : I = 0.846672 ± 0.008254\n"
          ]
        }
      ]
    },
    {
      "cell_type": "markdown",
      "source": [
        "# 4. 몬테칼로 적분 - 중요도 표본 방법 [Q6 - (b)]"
      ],
      "metadata": {
        "id": "if1SYiv7XQnb"
      }
    },
    {
      "cell_type": "markdown",
      "source": [
        "$f(x) = \\frac{1}{\\sqrt{x}(e^x+1)}$\n",
        "\n",
        "$I = \\int_{0}^{1} \\frac{1}{\\sqrt{x}(e^x+1)} dx$\n",
        "\n",
        "**1. 가중치 함수, $w(x)$ 도입**\n",
        "> $w(x) = \\frac{1}{\\sqrt{x}}$\n",
        "\n",
        "> $g(x) = \\frac{f(x)}{w(x)} = \\frac{1}{(e^x+1)}$\n",
        "\n",
        "**2. 난수 $x$를 확률밀도 $p(x)$로 추출**\n",
        "\n",
        "> $$p(x) = \\frac{w(x)}{\\int\\limits_a^b w(x)dx} = \\frac{1/\\sqrt{x}}{\\int\\limits_0^1 x^{-1/2}dx} = \\frac{1}{2\\sqrt{x}}$$\n",
        "\n",
        "> **⇒** ***균일한 난수 $z$로부터, 확률밀도 $p(x)$를 가지는 난수 $x$를 만들어내는 방법*** : $x = z^2$\n",
        "\n",
        "**3. $<g>_w$ 계산**\n",
        "\n",
        "> $<g>_w = \\frac{1}{N} \\sum_{i=1}^{N} g(x_i)$\n",
        "\n",
        "> $x_i$ is sampled with a pdf(확률 밀도 함수) $p(x)$\n",
        "\n",
        "**4. 중요도 추출법**\n",
        "\n",
        "> $I \\approx \\left[ \\int_{0}^{1}w(x) dx \\right] <g>_w$\n",
        "\n",
        "> ※ 참값 : 0.8389..."
      ],
      "metadata": {
        "id": "U-bU4kaYXWc4"
      }
    },
    {
      "cell_type": "code",
      "source": [
        "import numpy as np\n",
        "\n",
        "def rep(N):\n",
        "  z = np.random.uniform(0,1,N)     ### 0 ~ 1 난수\n",
        "  x = np.square(z)          ### 확률 밀도를 가지는 난수 x를 만들어냄\n",
        "  g = 1/(np.exp(x)+1)\n",
        "  g_mean_w = np.mean(g)\n",
        "  return(2*g_mean_w)\n",
        "\n",
        "N = 10000\n",
        "s=[]\n",
        "for i in range(10): # 실험 횟수 R = 10\n",
        "  s.append(rep(N))\n",
        "\n",
        "print(\"수치실험 결과 : I = %f ± %f\" %(np.mean(s),(np.std(s)/(10**(1/2)))))"
      ],
      "metadata": {
        "colab": {
          "base_uri": "https://localhost:8080/"
        },
        "id": "ufPCD0lQXW7j",
        "outputId": "e8bfef24-595d-4586-f39e-881a2fa0db8a"
      },
      "execution_count": null,
      "outputs": [
        {
          "output_type": "stream",
          "name": "stdout",
          "text": [
            "수치실험 결과 : I = 0.839264 ± 0.000309\n"
          ]
        }
      ]
    },
    {
      "cell_type": "markdown",
      "source": [
        "\n",
        "\n",
        "---\n",
        "\n"
      ],
      "metadata": {
        "id": "0Ib0SyddlotG"
      }
    },
    {
      "cell_type": "markdown",
      "source": [
        "**Q6 + α. 범위 조정** : 0 ~ 2까지\n",
        "\n",
        "몬테칼로 적분을 이용하여 $I = \\int_{0}^{2} \\frac{x^{-1/2}}{e^x+1} dx$ 를 계산하려고 한다.\n",
        "\n",
        "(a) 균일 표본 방법으로 $N = 10^4$을 이용하여 적분을 10회 계산하고 보고할 값을 출력하라.\n",
        "\n",
        "(b) $\\frac{1}{\\sqrt{x}}$ 에 비례하는 중요도 표본 방법으로 $N = 10^4$을 이용하여 적분을 10회 계산하고 보고할 값을 출력하고 (a)의 결과와 비교하라."
      ],
      "metadata": {
        "id": "IF_VZdrSkpQO"
      }
    },
    {
      "cell_type": "markdown",
      "source": [
        "# 5. 몬테칼로 적분 - 균일 표본 방법 [Q6 - (a) 범위 조정]"
      ],
      "metadata": {
        "id": "EE4JkYI_F55N"
      }
    },
    {
      "cell_type": "markdown",
      "source": [
        "1. 균일 표본 방법 : uniform한 난수를 생성해서 사용\n",
        "2. **평균값 방법 이용**\n",
        "> $I \\approx (\\frac{1}{N} \\sum_{i=1}^{N} f(x_i)) \\times (b-a)$\n",
        "\n",
        "  > ※ 참값 : 0.99687...\n",
        "\n"
      ],
      "metadata": {
        "id": "_ePiTkdEGER_"
      }
    },
    {
      "cell_type": "code",
      "source": [
        "import numpy as np\n",
        "import matplotlib.pyplot as plt\n",
        "\n",
        "def rep(N):\n",
        "  x = np.random.uniform(0,2,N) # 0 ~ 2 난수\n",
        "  f = (x**(-1/2))/(np.exp(x)+1)\n",
        "\n",
        "  return (np.mean(f)*(2-0))\n",
        "\n",
        "N = 10000             # 점 개수 N\n",
        "s=[]\n",
        "for i in range(10): # 실험 횟수 R = 10\n",
        "  s.append(rep(N))\n",
        "\n",
        "print(\"수치실험 결과 : I = %f ± %f\" %(np.mean(s),(np.std(s)/(10**(1/2)))))"
      ],
      "metadata": {
        "colab": {
          "base_uri": "https://localhost:8080/"
        },
        "id": "nO5KyUgDGhuG",
        "outputId": "eaeea0b3-8bd8-43bd-8c99-ae30ce3dbcfe"
      },
      "execution_count": null,
      "outputs": [
        {
          "output_type": "stream",
          "name": "stdout",
          "text": [
            "수치실험 결과 : I = 0.995569 ± 0.004207\n"
          ]
        }
      ]
    },
    {
      "cell_type": "markdown",
      "source": [
        "# 6. 몬테칼로 적분 - 중요도 표본 방법 [Q6 - (b) 범위 조정]"
      ],
      "metadata": {
        "id": "h0F-xx5FHwjL"
      }
    },
    {
      "cell_type": "markdown",
      "source": [
        "$f(x) = \\frac{1}{\\sqrt{x}(e^x+1)}$\n",
        "\n",
        "$I = \\int_{0}^{2} \\frac{1}{\\sqrt{x}(e^x+1)} dx$\n",
        "\n",
        "**1. 가중치 함수, $w(x)$ 도입**\n",
        "> $w(x) = \\frac{1}{\\sqrt{x}}$\n",
        "\n",
        "> $g(x) = \\frac{f(x)}{w(x)} = \\frac{1}{(e^x+1)}$\n",
        "\n",
        "**2. 난수 $x$를 확률밀도 $p(x)$로 추출**\n",
        "\n",
        "> $$p(x) = \\frac{w(x)}{\\int\\limits_a^b w(x)dx} = \\frac{1/\\sqrt{x}}{\\int\\limits_0^2 x^{-1/2}dx} = \\frac{1}{2\\sqrt{2}\\sqrt{x}}$$\n",
        "\n",
        "> **⇒** ***균일한 난수 $z$로부터, 확률밀도 $p(x)$를 가지는 난수 $x$를 만들어내는 방법*** : $x = z^2$\n",
        "\n",
        "> ***** 범위 주의 !!** $x = [0,2]$ ⇒ $z = [0,\\sqrt{2}]$\n",
        "\n",
        "**3. $<g>_w$ 계산**\n",
        "\n",
        "> $<g>_w = \\frac{1}{N} \\sum_{i=1}^{N} g(x_i)$\n",
        "\n",
        "> $x_i$ is sampled with a pdf(확률 밀도 함수) $p(x)$\n",
        "\n",
        "**4. 중요도 추출법**\n",
        "\n",
        "> $I \\approx \\left[ \\int_{0}^{2}w(x) dx \\right] <g>_w$\n",
        "\n",
        "> ※ 참값 : 0.99687..."
      ],
      "metadata": {
        "id": "gMdyq9XxlMeC"
      }
    },
    {
      "cell_type": "code",
      "source": [
        "import numpy as np\n",
        "\n",
        "def rep(N):\n",
        "  z = np.random.uniform(0,np.sqrt(2),N)     ### 0 ~ root(2) 난수\n",
        "  x = np.square(z)          ### 확률 밀도를 가지는 난수 x를 만들어냄\n",
        "  g = 1/(np.exp(x)+1)\n",
        "  g_mean_w = np.mean(g)\n",
        "  return(2*np.sqrt(2)*g_mean_w)\n",
        "\n",
        "N = 10000\n",
        "s=[]\n",
        "for i in range(10): # 실험 횟수 R = 10\n",
        "  s.append(rep(N))\n",
        "\n",
        "print(\"수치실험 결과 : I = %f ± %f\" %(np.mean(s),(np.std(s)/(10**(1/2)))))"
      ],
      "metadata": {
        "colab": {
          "base_uri": "https://localhost:8080/"
        },
        "id": "ftXk1ZFXI7TU",
        "outputId": "b6f09483-c06b-4cc6-ebfb-8bd53cae4eda"
      },
      "execution_count": null,
      "outputs": [
        {
          "output_type": "stream",
          "name": "stdout",
          "text": [
            "수치실험 결과 : I = 0.996978 ± 0.001096\n"
          ]
        }
      ]
    }
  ]
}